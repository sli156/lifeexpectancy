{
 "cells": [
  {
   "cell_type": "markdown",
   "metadata": {
    "cell_id": "00000-8a7eedbc-0741-4db9-b788-668cd639fc9b",
    "deepnote_cell_type": "markdown"
   },
   "source": [
    "# Life Expectancy Prediction Model\n",
    "__Shuyan(Dawn) Li__<br>\n",
    "Deepnote link: https://deepnote.com/project/07719c8b-d1bf-4a88-9582-e7e42cd58ee8#%2Flife_expectancy.ipynb"
   ]
  },
  {
   "cell_type": "code",
   "execution_count": null,
   "metadata": {
    "cell_id": "00001-e3e1b162-255c-4d47-99fa-1969ccc9bbaa",
    "deepnote_cell_type": "code",
    "deepnote_to_be_reexecuted": false,
    "execution_millis": 1592,
    "execution_start": 1615250391882,
    "source_hash": "ac46cc72"
   },
   "outputs": [],
   "source": [
    "import numpy as np\n",
    "import pandas as pd\n",
    "from   sklearn.pipeline        import Pipeline\n",
    "from   sklearn.model_selection import train_test_split\n",
    "from   sklearn.experimental    import enable_iterative_imputer\n",
    "from sklearn.decomposition import PCA\n",
    "from   sklearn.preprocessing   import *\n",
    "from   sklearn.impute          import *\n",
    "from   sklearn.compose         import *\n",
    "from sklearn.model_selection import RandomizedSearchCV\n",
    "from   sklearn.linear_model    import LinearRegression, Lasso, Ridge\n",
    "from sklearn.tree import DecisionTreeRegressor\n",
    "from sklearn.ensemble import RandomForestRegressor\n",
    "from sklearn.base            import BaseEstimator\n",
    "from   sklearn.metrics         import r2_score, mean_squared_error\n",
    "from sklearn.inspection import permutation_importance"
   ]
  },
  {
   "cell_type": "code",
   "execution_count": null,
   "metadata": {
    "cell_id": "00002-b61567ca-dad8-44d6-b3c1-354277e358ff",
    "deepnote_cell_type": "code",
    "deepnote_to_be_reexecuted": false,
    "execution_millis": 14,
    "execution_start": 1615250393477,
    "source_hash": "859a3ce9"
   },
   "outputs": [],
   "source": [
    "life = pd.read_csv('Life Expectancy Data.csv')"
   ]
  },
  {
   "cell_type": "markdown",
   "metadata": {
    "cell_id": "00003-7af697a7-b9e2-4043-b26f-7160dd17ba1e",
    "deepnote_cell_type": "markdown"
   },
   "source": [
    "## Introduction\n",
    "This is a machine learning project aimed to train a model to predict life expectancy using machine learning methods. Here we use the dataset from https://www.kaggle.com/kumarajarshi/life-expectancy-who. This dataset includes 2938 observations and 21 raw features.<br>\n",
    "Although various studies undertaken in this topic, we are still insterested in what factors are influencing our life expectancy. We care about those influenciers for this will affect government policies in healthcare expenditure etc. This dataset has many interested varibles including income facors, immunization facors, mortality factors, economic factors, social factors and other health related factors. "
   ]
  },
  {
   "cell_type": "markdown",
   "metadata": {
    "cell_id": "00004-deddd2ef-50a5-4aea-99eb-873197fbf83e",
    "deepnote_cell_type": "markdown"
   },
   "source": [
    "## 1. Load data \n",
    "In the step, I am going to load the data and treat life expectancy as the target variable and the rest except the Year variable as predictors. We have 2 categorical variables Countries and Status and the rest are numeric variables."
   ]
  },
  {
   "cell_type": "code",
   "execution_count": null,
   "metadata": {
    "cell_id": "00005-622e2589-93b7-4ad8-835c-830c738d59c3",
    "deepnote_cell_type": "code",
    "deepnote_to_be_reexecuted": false,
    "execution_millis": 69,
    "execution_start": 1615250393512,
    "source_hash": "8fc675c0"
   },
   "outputs": [
    {
     "data": {
      "application/vnd.deepnote.dataframe.v2+json": {
       "column_count": 22,
       "columns": [
        {
         "dtype": "object",
         "name": "Country",
         "stats": {
          "categories": [
           {
            "count": 3,
            "name": "Afghanistan"
           }
          ],
          "nan_count": 0,
          "unique_count": 1
         }
        },
        {
         "dtype": "int64",
         "name": "Year",
         "stats": {
          "histogram": [
           {
            "bin_end": 2013.2,
            "bin_start": 2013,
            "count": 1
           },
           {
            "bin_end": 2013.4,
            "bin_start": 2013.2,
            "count": 0
           },
           {
            "bin_end": 2013.6,
            "bin_start": 2013.4,
            "count": 0
           },
           {
            "bin_end": 2013.8,
            "bin_start": 2013.6,
            "count": 0
           },
           {
            "bin_end": 2014,
            "bin_start": 2013.8,
            "count": 0
           },
           {
            "bin_end": 2014.2,
            "bin_start": 2014,
            "count": 1
           },
           {
            "bin_end": 2014.4,
            "bin_start": 2014.2,
            "count": 0
           },
           {
            "bin_end": 2014.6,
            "bin_start": 2014.4,
            "count": 0
           },
           {
            "bin_end": 2014.8,
            "bin_start": 2014.6,
            "count": 0
           },
           {
            "bin_end": 2015,
            "bin_start": 2014.8,
            "count": 1
           }
          ],
          "max": 2015,
          "min": 2013,
          "nan_count": 0,
          "unique_count": 3
         }
        },
        {
         "dtype": "object",
         "name": "Status",
         "stats": {
          "categories": [
           {
            "count": 3,
            "name": "Developing"
           }
          ],
          "nan_count": 0,
          "unique_count": 1
         }
        },
        {
         "dtype": "float64",
         "name": "Life expectancy ",
         "stats": {
          "histogram": [
           {
            "bin_end": 60.41,
            "bin_start": 59.9,
            "count": 2
           },
           {
            "bin_end": 60.92,
            "bin_start": 60.41,
            "count": 0
           },
           {
            "bin_end": 61.43,
            "bin_start": 60.92,
            "count": 0
           },
           {
            "bin_end": 61.94,
            "bin_start": 61.43,
            "count": 0
           },
           {
            "bin_end": 62.45,
            "bin_start": 61.94,
            "count": 0
           },
           {
            "bin_end": 62.96,
            "bin_start": 62.45,
            "count": 0
           },
           {
            "bin_end": 63.47,
            "bin_start": 62.96,
            "count": 0
           },
           {
            "bin_end": 63.98,
            "bin_start": 63.47,
            "count": 0
           },
           {
            "bin_end": 64.49,
            "bin_start": 63.98,
            "count": 0
           },
           {
            "bin_end": 65,
            "bin_start": 64.49,
            "count": 1
           }
          ],
          "max": 65,
          "min": 59.9,
          "nan_count": 0,
          "unique_count": 2
         }
        },
        {
         "dtype": "float64",
         "name": "Adult Mortality",
         "stats": {
          "histogram": [
           {
            "bin_end": 263.8,
            "bin_start": 263,
            "count": 1
           },
           {
            "bin_end": 264.6,
            "bin_start": 263.8,
            "count": 0
           },
           {
            "bin_end": 265.4,
            "bin_start": 264.6,
            "count": 0
           },
           {
            "bin_end": 266.2,
            "bin_start": 265.4,
            "count": 0
           },
           {
            "bin_end": 267,
            "bin_start": 266.2,
            "count": 0
           },
           {
            "bin_end": 267.8,
            "bin_start": 267,
            "count": 0
           },
           {
            "bin_end": 268.6,
            "bin_start": 267.8,
            "count": 1
           },
           {
            "bin_end": 269.4,
            "bin_start": 268.6,
            "count": 0
           },
           {
            "bin_end": 270.2,
            "bin_start": 269.4,
            "count": 0
           },
           {
            "bin_end": 271,
            "bin_start": 270.2,
            "count": 1
           }
          ],
          "max": 271,
          "min": 263,
          "nan_count": 0,
          "unique_count": 3
         }
        },
        {
         "dtype": "int64",
         "name": "infant deaths",
         "stats": {
          "histogram": [
           {
            "bin_end": 62.4,
            "bin_start": 62,
            "count": 1
           },
           {
            "bin_end": 62.8,
            "bin_start": 62.4,
            "count": 0
           },
           {
            "bin_end": 63.2,
            "bin_start": 62.8,
            "count": 0
           },
           {
            "bin_end": 63.6,
            "bin_start": 63.2,
            "count": 0
           },
           {
            "bin_end": 64,
            "bin_start": 63.6,
            "count": 0
           },
           {
            "bin_end": 64.4,
            "bin_start": 64,
            "count": 1
           },
           {
            "bin_end": 64.8,
            "bin_start": 64.4,
            "count": 0
           },
           {
            "bin_end": 65.2,
            "bin_start": 64.8,
            "count": 0
           },
           {
            "bin_end": 65.6,
            "bin_start": 65.2,
            "count": 0
           },
           {
            "bin_end": 66,
            "bin_start": 65.6,
            "count": 1
           }
          ],
          "max": 66,
          "min": 62,
          "nan_count": 0,
          "unique_count": 3
         }
        },
        {
         "dtype": "float64",
         "name": "Alcohol",
         "stats": {
          "histogram": [
           {
            "bin_end": -0.39,
            "bin_start": -0.49,
            "count": 0
           },
           {
            "bin_end": -0.29,
            "bin_start": -0.39,
            "count": 0
           },
           {
            "bin_end": -0.18999999999999995,
            "bin_start": -0.29,
            "count": 0
           },
           {
            "bin_end": -0.08999999999999997,
            "bin_start": -0.18999999999999995,
            "count": 0
           },
           {
            "bin_end": 0.010000000000000009,
            "bin_start": -0.08999999999999997,
            "count": 3
           },
           {
            "bin_end": 0.1100000000000001,
            "bin_start": 0.010000000000000009,
            "count": 0
           },
           {
            "bin_end": 0.21000000000000008,
            "bin_start": 0.1100000000000001,
            "count": 0
           },
           {
            "bin_end": 0.31000000000000005,
            "bin_start": 0.21000000000000008,
            "count": 0
           },
           {
            "bin_end": 0.41000000000000003,
            "bin_start": 0.31000000000000005,
            "count": 0
           },
           {
            "bin_end": 0.51,
            "bin_start": 0.41000000000000003,
            "count": 0
           }
          ],
          "max": 0.01,
          "min": 0.01,
          "nan_count": 0,
          "unique_count": 1
         }
        },
        {
         "dtype": "float64",
         "name": "percentage expenditure",
         "stats": {
          "histogram": [
           {
            "bin_end": 71.504019426,
            "bin_start": 71.27962362,
            "count": 1
           },
           {
            "bin_end": 71.728415232,
            "bin_start": 71.504019426,
            "count": 0
           },
           {
            "bin_end": 71.952811038,
            "bin_start": 71.728415232,
            "count": 0
           },
           {
            "bin_end": 72.177206844,
            "bin_start": 71.952811038,
            "count": 0
           },
           {
            "bin_end": 72.40160265,
            "bin_start": 72.177206844,
            "count": 0
           },
           {
            "bin_end": 72.625998456,
            "bin_start": 72.40160265,
            "count": 0
           },
           {
            "bin_end": 72.85039426200001,
            "bin_start": 72.625998456,
            "count": 0
           },
           {
            "bin_end": 73.074790068,
            "bin_start": 72.85039426200001,
            "count": 0
           },
           {
            "bin_end": 73.299185874,
            "bin_start": 73.074790068,
            "count": 1
           },
           {
            "bin_end": 73.52358168,
            "bin_start": 73.299185874,
            "count": 1
           }
          ],
          "max": 73.52358168,
          "min": 71.27962362,
          "nan_count": 0,
          "unique_count": 3
         }
        },
        {
         "dtype": "float64",
         "name": "Hepatitis B",
         "stats": {
          "histogram": [
           {
            "bin_end": 62.3,
            "bin_start": 62,
            "count": 1
           },
           {
            "bin_end": 62.6,
            "bin_start": 62.3,
            "count": 0
           },
           {
            "bin_end": 62.9,
            "bin_start": 62.6,
            "count": 0
           },
           {
            "bin_end": 63.2,
            "bin_start": 62.9,
            "count": 0
           },
           {
            "bin_end": 63.5,
            "bin_start": 63.2,
            "count": 0
           },
           {
            "bin_end": 63.8,
            "bin_start": 63.5,
            "count": 0
           },
           {
            "bin_end": 64.1,
            "bin_start": 63.8,
            "count": 1
           },
           {
            "bin_end": 64.4,
            "bin_start": 64.1,
            "count": 0
           },
           {
            "bin_end": 64.7,
            "bin_start": 64.4,
            "count": 0
           },
           {
            "bin_end": 65,
            "bin_start": 64.7,
            "count": 1
           }
          ],
          "max": 65,
          "min": 62,
          "nan_count": 0,
          "unique_count": 3
         }
        },
        {
         "dtype": "int64",
         "name": "Measles ",
         "stats": {
          "histogram": [
           {
            "bin_end": 502.4,
            "bin_start": 430,
            "count": 2
           },
           {
            "bin_end": 574.8,
            "bin_start": 502.4,
            "count": 0
           },
           {
            "bin_end": 647.2,
            "bin_start": 574.8,
            "count": 0
           },
           {
            "bin_end": 719.6,
            "bin_start": 647.2,
            "count": 0
           },
           {
            "bin_end": 792,
            "bin_start": 719.6,
            "count": 0
           },
           {
            "bin_end": 864.4000000000001,
            "bin_start": 792,
            "count": 0
           },
           {
            "bin_end": 936.8000000000001,
            "bin_start": 864.4000000000001,
            "count": 0
           },
           {
            "bin_end": 1009.2,
            "bin_start": 936.8000000000001,
            "count": 0
           },
           {
            "bin_end": 1081.6,
            "bin_start": 1009.2,
            "count": 0
           },
           {
            "bin_end": 1154,
            "bin_start": 1081.6,
            "count": 1
           }
          ],
          "max": 1154,
          "min": 430,
          "nan_count": 0,
          "unique_count": 3
         }
        },
        {
         "dtype": "float64",
         "name": " BMI ",
         "stats": {
          "histogram": [
           {
            "bin_end": 18.200000000000003,
            "bin_start": 18.1,
            "count": 1
           },
           {
            "bin_end": 18.3,
            "bin_start": 18.200000000000003,
            "count": 0
           },
           {
            "bin_end": 18.400000000000002,
            "bin_start": 18.3,
            "count": 0
           },
           {
            "bin_end": 18.5,
            "bin_start": 18.400000000000002,
            "count": 0
           },
           {
            "bin_end": 18.6,
            "bin_start": 18.5,
            "count": 0
           },
           {
            "bin_end": 18.700000000000003,
            "bin_start": 18.6,
            "count": 1
           },
           {
            "bin_end": 18.8,
            "bin_start": 18.700000000000003,
            "count": 0
           },
           {
            "bin_end": 18.900000000000002,
            "bin_start": 18.8,
            "count": 0
           },
           {
            "bin_end": 19,
            "bin_start": 18.900000000000002,
            "count": 0
           },
           {
            "bin_end": 19.1,
            "bin_start": 19,
            "count": 1
           }
          ],
          "max": 19.1,
          "min": 18.1,
          "nan_count": 0,
          "unique_count": 3
         }
        },
        {
         "dtype": "int64",
         "name": "under-five deaths ",
         "stats": {
          "histogram": [
           {
            "bin_end": 83.6,
            "bin_start": 83,
            "count": 1
           },
           {
            "bin_end": 84.2,
            "bin_start": 83.6,
            "count": 0
           },
           {
            "bin_end": 84.8,
            "bin_start": 84.2,
            "count": 0
           },
           {
            "bin_end": 85.4,
            "bin_start": 84.8,
            "count": 0
           },
           {
            "bin_end": 86,
            "bin_start": 85.4,
            "count": 0
           },
           {
            "bin_end": 86.6,
            "bin_start": 86,
            "count": 1
           },
           {
            "bin_end": 87.2,
            "bin_start": 86.6,
            "count": 0
           },
           {
            "bin_end": 87.8,
            "bin_start": 87.2,
            "count": 0
           },
           {
            "bin_end": 88.4,
            "bin_start": 87.8,
            "count": 0
           },
           {
            "bin_end": 89,
            "bin_start": 88.4,
            "count": 1
           }
          ],
          "max": 89,
          "min": 83,
          "nan_count": 0,
          "unique_count": 3
         }
        },
        {
         "dtype": "float64",
         "name": "Polio",
         "stats": {
          "histogram": [
           {
            "bin_end": 11.6,
            "bin_start": 6,
            "count": 1
           },
           {
            "bin_end": 17.2,
            "bin_start": 11.6,
            "count": 0
           },
           {
            "bin_end": 22.799999999999997,
            "bin_start": 17.2,
            "count": 0
           },
           {
            "bin_end": 28.4,
            "bin_start": 22.799999999999997,
            "count": 0
           },
           {
            "bin_end": 34,
            "bin_start": 28.4,
            "count": 0
           },
           {
            "bin_end": 39.599999999999994,
            "bin_start": 34,
            "count": 0
           },
           {
            "bin_end": 45.199999999999996,
            "bin_start": 39.599999999999994,
            "count": 0
           },
           {
            "bin_end": 50.8,
            "bin_start": 45.199999999999996,
            "count": 0
           },
           {
            "bin_end": 56.4,
            "bin_start": 50.8,
            "count": 0
           },
           {
            "bin_end": 62,
            "bin_start": 56.4,
            "count": 2
           }
          ],
          "max": 62,
          "min": 6,
          "nan_count": 0,
          "unique_count": 3
         }
        },
        {
         "dtype": "float64",
         "name": "Total expenditure",
         "stats": {
          "histogram": [
           {
            "bin_end": 8.135000000000002,
            "bin_start": 8.13,
            "count": 1
           },
           {
            "bin_end": 8.14,
            "bin_start": 8.135000000000002,
            "count": 0
           },
           {
            "bin_end": 8.145,
            "bin_start": 8.14,
            "count": 0
           },
           {
            "bin_end": 8.15,
            "bin_start": 8.145,
            "count": 0
           },
           {
            "bin_end": 8.155000000000001,
            "bin_start": 8.15,
            "count": 0
           },
           {
            "bin_end": 8.16,
            "bin_start": 8.155000000000001,
            "count": 0
           },
           {
            "bin_end": 8.165,
            "bin_start": 8.16,
            "count": 1
           },
           {
            "bin_end": 8.17,
            "bin_start": 8.165,
            "count": 0
           },
           {
            "bin_end": 8.175,
            "bin_start": 8.17,
            "count": 0
           },
           {
            "bin_end": 8.18,
            "bin_start": 8.175,
            "count": 1
           }
          ],
          "max": 8.18,
          "min": 8.13,
          "nan_count": 0,
          "unique_count": 3
         }
        },
        {
         "dtype": "float64",
         "name": "Diphtheria ",
         "stats": {
          "histogram": [
           {
            "bin_end": 62.3,
            "bin_start": 62,
            "count": 1
           },
           {
            "bin_end": 62.6,
            "bin_start": 62.3,
            "count": 0
           },
           {
            "bin_end": 62.9,
            "bin_start": 62.6,
            "count": 0
           },
           {
            "bin_end": 63.2,
            "bin_start": 62.9,
            "count": 0
           },
           {
            "bin_end": 63.5,
            "bin_start": 63.2,
            "count": 0
           },
           {
            "bin_end": 63.8,
            "bin_start": 63.5,
            "count": 0
           },
           {
            "bin_end": 64.1,
            "bin_start": 63.8,
            "count": 1
           },
           {
            "bin_end": 64.4,
            "bin_start": 64.1,
            "count": 0
           },
           {
            "bin_end": 64.7,
            "bin_start": 64.4,
            "count": 0
           },
           {
            "bin_end": 65,
            "bin_start": 64.7,
            "count": 1
           }
          ],
          "max": 65,
          "min": 62,
          "nan_count": 0,
          "unique_count": 3
         }
        },
        {
         "dtype": "float64",
         "name": " HIV/AIDS",
         "stats": {
          "histogram": [
           {
            "bin_end": -0.30000000000000004,
            "bin_start": -0.4,
            "count": 0
           },
           {
            "bin_end": -0.2,
            "bin_start": -0.30000000000000004,
            "count": 0
           },
           {
            "bin_end": -0.09999999999999998,
            "bin_start": -0.2,
            "count": 0
           },
           {
            "bin_end": 0,
            "bin_start": -0.09999999999999998,
            "count": 0
           },
           {
            "bin_end": 0.09999999999999998,
            "bin_start": 0,
            "count": 0
           },
           {
            "bin_end": 0.20000000000000007,
            "bin_start": 0.09999999999999998,
            "count": 3
           },
           {
            "bin_end": 0.30000000000000004,
            "bin_start": 0.20000000000000007,
            "count": 0
           },
           {
            "bin_end": 0.4,
            "bin_start": 0.30000000000000004,
            "count": 0
           },
           {
            "bin_end": 0.5,
            "bin_start": 0.4,
            "count": 0
           },
           {
            "bin_end": 0.6,
            "bin_start": 0.5,
            "count": 0
           }
          ],
          "max": 0.1,
          "min": 0.1,
          "nan_count": 0,
          "unique_count": 1
         }
        },
        {
         "dtype": "float64",
         "name": "GDP",
         "stats": {
          "histogram": [
           {
            "bin_end": 589.0077866,
            "bin_start": 584.25921,
            "count": 1
           },
           {
            "bin_end": 593.7563632,
            "bin_start": 589.0077866,
            "count": 0
           },
           {
            "bin_end": 598.5049398,
            "bin_start": 593.7563632,
            "count": 0
           },
           {
            "bin_end": 603.2535164,
            "bin_start": 598.5049398,
            "count": 0
           },
           {
            "bin_end": 608.0020930000001,
            "bin_start": 603.2535164,
            "count": 0
           },
           {
            "bin_end": 612.7506696,
            "bin_start": 608.0020930000001,
            "count": 1
           },
           {
            "bin_end": 617.4992462,
            "bin_start": 612.7506696,
            "count": 0
           },
           {
            "bin_end": 622.2478228,
            "bin_start": 617.4992462,
            "count": 0
           },
           {
            "bin_end": 626.9963994,
            "bin_start": 622.2478228,
            "count": 0
           },
           {
            "bin_end": 631.744976,
            "bin_start": 626.9963994,
            "count": 1
           }
          ],
          "max": 631.744976,
          "min": 584.25921,
          "nan_count": 0,
          "unique_count": 3
         }
        },
        {
         "dtype": "float64",
         "name": "Population",
         "stats": {
          "histogram": [
           {
            "bin_end": 3668473.2,
            "bin_start": 327582,
            "count": 1
           },
           {
            "bin_end": 7009364.4,
            "bin_start": 3668473.2,
            "count": 0
           },
           {
            "bin_end": 10350255.600000001,
            "bin_start": 7009364.4,
            "count": 0
           },
           {
            "bin_end": 13691146.8,
            "bin_start": 10350255.600000001,
            "count": 0
           },
           {
            "bin_end": 17032038,
            "bin_start": 13691146.8,
            "count": 0
           },
           {
            "bin_end": 20372929.200000003,
            "bin_start": 17032038,
            "count": 0
           },
           {
            "bin_end": 23713820.400000002,
            "bin_start": 20372929.200000003,
            "count": 0
           },
           {
            "bin_end": 27054711.6,
            "bin_start": 23713820.400000002,
            "count": 0
           },
           {
            "bin_end": 30395602.8,
            "bin_start": 27054711.6,
            "count": 0
           },
           {
            "bin_end": 33736494,
            "bin_start": 30395602.8,
            "count": 2
           }
          ],
          "max": 33736494,
          "min": 327582,
          "nan_count": 0,
          "unique_count": 3
         }
        },
        {
         "dtype": "float64",
         "name": " thinness  1-19 years",
         "stats": {
          "histogram": [
           {
            "bin_end": 17.25,
            "bin_start": 17.2,
            "count": 1
           },
           {
            "bin_end": 17.3,
            "bin_start": 17.25,
            "count": 0
           },
           {
            "bin_end": 17.349999999999998,
            "bin_start": 17.3,
            "count": 0
           },
           {
            "bin_end": 17.4,
            "bin_start": 17.349999999999998,
            "count": 0
           },
           {
            "bin_end": 17.45,
            "bin_start": 17.4,
            "count": 0
           },
           {
            "bin_end": 17.5,
            "bin_start": 17.45,
            "count": 0
           },
           {
            "bin_end": 17.55,
            "bin_start": 17.5,
            "count": 1
           },
           {
            "bin_end": 17.599999999999998,
            "bin_start": 17.55,
            "count": 0
           },
           {
            "bin_end": 17.65,
            "bin_start": 17.599999999999998,
            "count": 0
           },
           {
            "bin_end": 17.7,
            "bin_start": 17.65,
            "count": 1
           }
          ],
          "max": 17.7,
          "min": 17.2,
          "nan_count": 0,
          "unique_count": 3
         }
        },
        {
         "dtype": "float64",
         "name": " thinness 5-9 years",
         "stats": {
          "histogram": [
           {
            "bin_end": 17.34,
            "bin_start": 17.3,
            "count": 1
           },
           {
            "bin_end": 17.38,
            "bin_start": 17.34,
            "count": 0
           },
           {
            "bin_end": 17.42,
            "bin_start": 17.38,
            "count": 0
           },
           {
            "bin_end": 17.46,
            "bin_start": 17.42,
            "count": 0
           },
           {
            "bin_end": 17.5,
            "bin_start": 17.46,
            "count": 0
           },
           {
            "bin_end": 17.54,
            "bin_start": 17.5,
            "count": 1
           },
           {
            "bin_end": 17.58,
            "bin_start": 17.54,
            "count": 0
           },
           {
            "bin_end": 17.62,
            "bin_start": 17.58,
            "count": 0
           },
           {
            "bin_end": 17.66,
            "bin_start": 17.62,
            "count": 0
           },
           {
            "bin_end": 17.7,
            "bin_start": 17.66,
            "count": 1
           }
          ],
          "max": 17.7,
          "min": 17.3,
          "nan_count": 0,
          "unique_count": 3
         }
        },
        {
         "dtype": "float64",
         "name": "Income composition of resources",
         "stats": {
          "histogram": [
           {
            "bin_end": 0.4709,
            "bin_start": 0.47,
            "count": 1
           },
           {
            "bin_end": 0.4718,
            "bin_start": 0.4709,
            "count": 0
           },
           {
            "bin_end": 0.47269999999999995,
            "bin_start": 0.4718,
            "count": 0
           },
           {
            "bin_end": 0.47359999999999997,
            "bin_start": 0.47269999999999995,
            "count": 0
           },
           {
            "bin_end": 0.4745,
            "bin_start": 0.47359999999999997,
            "count": 0
           },
           {
            "bin_end": 0.4754,
            "bin_start": 0.4745,
            "count": 0
           },
           {
            "bin_end": 0.4763,
            "bin_start": 0.4754,
            "count": 1
           },
           {
            "bin_end": 0.47719999999999996,
            "bin_start": 0.4763,
            "count": 0
           },
           {
            "bin_end": 0.47809999999999997,
            "bin_start": 0.47719999999999996,
            "count": 0
           },
           {
            "bin_end": 0.479,
            "bin_start": 0.47809999999999997,
            "count": 1
           }
          ],
          "max": 0.479,
          "min": 0.47,
          "nan_count": 0,
          "unique_count": 3
         }
        },
        {
         "dtype": "float64",
         "name": "Schooling",
         "stats": {
          "histogram": [
           {
            "bin_end": 9.92,
            "bin_start": 9.9,
            "count": 1
           },
           {
            "bin_end": 9.94,
            "bin_start": 9.92,
            "count": 0
           },
           {
            "bin_end": 9.96,
            "bin_start": 9.94,
            "count": 0
           },
           {
            "bin_end": 9.98,
            "bin_start": 9.96,
            "count": 0
           },
           {
            "bin_end": 10,
            "bin_start": 9.98,
            "count": 0
           },
           {
            "bin_end": 10.02,
            "bin_start": 10,
            "count": 1
           },
           {
            "bin_end": 10.04,
            "bin_start": 10.02,
            "count": 0
           },
           {
            "bin_end": 10.06,
            "bin_start": 10.04,
            "count": 0
           },
           {
            "bin_end": 10.08,
            "bin_start": 10.06,
            "count": 0
           },
           {
            "bin_end": 10.1,
            "bin_start": 10.08,
            "count": 1
           }
          ],
          "max": 10.1,
          "min": 9.9,
          "nan_count": 0,
          "unique_count": 3
         }
        },
        {
         "dtype": "int64",
         "name": "_deepnote_index_column"
        }
       ],
       "row_count": 3,
       "rows_bottom": null,
       "rows_top": [
        {
         " BMI ": 19.1,
         " HIV/AIDS": 0.1,
         " thinness  1-19 years": 17.2,
         " thinness 5-9 years": 17.3,
         "Adult Mortality": 263,
         "Alcohol": 0.01,
         "Country": "Afghanistan",
         "Diphtheria ": 65,
         "GDP": 584.25921,
         "Hepatitis B": 65,
         "Income composition of resources": 0.479,
         "Life expectancy ": 65,
         "Measles ": 1154,
         "Polio": 6,
         "Population": 33736494,
         "Schooling": 10.1,
         "Status": "Developing",
         "Total expenditure": 8.16,
         "Year": 2015,
         "_deepnote_index_column": 0,
         "infant deaths": 62,
         "percentage expenditure": 71.27962362,
         "under-five deaths ": 83
        },
        {
         " BMI ": 18.6,
         " HIV/AIDS": 0.1,
         " thinness  1-19 years": 17.5,
         " thinness 5-9 years": 17.5,
         "Adult Mortality": 271,
         "Alcohol": 0.01,
         "Country": "Afghanistan",
         "Diphtheria ": 62,
         "GDP": 612.696514,
         "Hepatitis B": 62,
         "Income composition of resources": 0.476,
         "Life expectancy ": 59.9,
         "Measles ": 492,
         "Polio": 58,
         "Population": 327582,
         "Schooling": 10,
         "Status": "Developing",
         "Total expenditure": 8.18,
         "Year": 2014,
         "_deepnote_index_column": 1,
         "infant deaths": 64,
         "percentage expenditure": 73.52358168,
         "under-five deaths ": 86
        },
        {
         " BMI ": 18.1,
         " HIV/AIDS": 0.1,
         " thinness  1-19 years": 17.7,
         " thinness 5-9 years": 17.7,
         "Adult Mortality": 268,
         "Alcohol": 0.01,
         "Country": "Afghanistan",
         "Diphtheria ": 64,
         "GDP": 631.744976,
         "Hepatitis B": 64,
         "Income composition of resources": 0.47,
         "Life expectancy ": 59.9,
         "Measles ": 430,
         "Polio": 62,
         "Population": 31731688,
         "Schooling": 9.9,
         "Status": "Developing",
         "Total expenditure": 8.13,
         "Year": 2013,
         "_deepnote_index_column": 2,
         "infant deaths": 66,
         "percentage expenditure": 73.21924272,
         "under-five deaths ": 89
        }
       ]
      },
      "text/html": [
       "<div>\n",
       "<style scoped>\n",
       "    .dataframe tbody tr th:only-of-type {\n",
       "        vertical-align: middle;\n",
       "    }\n",
       "\n",
       "    .dataframe tbody tr th {\n",
       "        vertical-align: top;\n",
       "    }\n",
       "\n",
       "    .dataframe thead th {\n",
       "        text-align: right;\n",
       "    }\n",
       "</style>\n",
       "<table border=\"1\" class=\"dataframe\">\n",
       "  <thead>\n",
       "    <tr style=\"text-align: right;\">\n",
       "      <th></th>\n",
       "      <th>Country</th>\n",
       "      <th>Year</th>\n",
       "      <th>Status</th>\n",
       "      <th>Life expectancy</th>\n",
       "      <th>Adult Mortality</th>\n",
       "      <th>infant deaths</th>\n",
       "      <th>Alcohol</th>\n",
       "      <th>percentage expenditure</th>\n",
       "      <th>Hepatitis B</th>\n",
       "      <th>Measles</th>\n",
       "      <th>...</th>\n",
       "      <th>Polio</th>\n",
       "      <th>Total expenditure</th>\n",
       "      <th>Diphtheria</th>\n",
       "      <th>HIV/AIDS</th>\n",
       "      <th>GDP</th>\n",
       "      <th>Population</th>\n",
       "      <th>thinness  1-19 years</th>\n",
       "      <th>thinness 5-9 years</th>\n",
       "      <th>Income composition of resources</th>\n",
       "      <th>Schooling</th>\n",
       "    </tr>\n",
       "  </thead>\n",
       "  <tbody>\n",
       "    <tr>\n",
       "      <th>0</th>\n",
       "      <td>Afghanistan</td>\n",
       "      <td>2015</td>\n",
       "      <td>Developing</td>\n",
       "      <td>65.0</td>\n",
       "      <td>263.0</td>\n",
       "      <td>62</td>\n",
       "      <td>0.01</td>\n",
       "      <td>71.279624</td>\n",
       "      <td>65.0</td>\n",
       "      <td>1154</td>\n",
       "      <td>...</td>\n",
       "      <td>6.0</td>\n",
       "      <td>8.16</td>\n",
       "      <td>65.0</td>\n",
       "      <td>0.1</td>\n",
       "      <td>584.259210</td>\n",
       "      <td>33736494.0</td>\n",
       "      <td>17.2</td>\n",
       "      <td>17.3</td>\n",
       "      <td>0.479</td>\n",
       "      <td>10.1</td>\n",
       "    </tr>\n",
       "    <tr>\n",
       "      <th>1</th>\n",
       "      <td>Afghanistan</td>\n",
       "      <td>2014</td>\n",
       "      <td>Developing</td>\n",
       "      <td>59.9</td>\n",
       "      <td>271.0</td>\n",
       "      <td>64</td>\n",
       "      <td>0.01</td>\n",
       "      <td>73.523582</td>\n",
       "      <td>62.0</td>\n",
       "      <td>492</td>\n",
       "      <td>...</td>\n",
       "      <td>58.0</td>\n",
       "      <td>8.18</td>\n",
       "      <td>62.0</td>\n",
       "      <td>0.1</td>\n",
       "      <td>612.696514</td>\n",
       "      <td>327582.0</td>\n",
       "      <td>17.5</td>\n",
       "      <td>17.5</td>\n",
       "      <td>0.476</td>\n",
       "      <td>10.0</td>\n",
       "    </tr>\n",
       "    <tr>\n",
       "      <th>2</th>\n",
       "      <td>Afghanistan</td>\n",
       "      <td>2013</td>\n",
       "      <td>Developing</td>\n",
       "      <td>59.9</td>\n",
       "      <td>268.0</td>\n",
       "      <td>66</td>\n",
       "      <td>0.01</td>\n",
       "      <td>73.219243</td>\n",
       "      <td>64.0</td>\n",
       "      <td>430</td>\n",
       "      <td>...</td>\n",
       "      <td>62.0</td>\n",
       "      <td>8.13</td>\n",
       "      <td>64.0</td>\n",
       "      <td>0.1</td>\n",
       "      <td>631.744976</td>\n",
       "      <td>31731688.0</td>\n",
       "      <td>17.7</td>\n",
       "      <td>17.7</td>\n",
       "      <td>0.470</td>\n",
       "      <td>9.9</td>\n",
       "    </tr>\n",
       "  </tbody>\n",
       "</table>\n",
       "<p>3 rows × 22 columns</p>\n",
       "</div>"
      ],
      "text/plain": [
       "       Country  Year      Status  Life expectancy   Adult Mortality  \\\n",
       "0  Afghanistan  2015  Developing              65.0            263.0   \n",
       "1  Afghanistan  2014  Developing              59.9            271.0   \n",
       "2  Afghanistan  2013  Developing              59.9            268.0   \n",
       "\n",
       "   infant deaths  Alcohol  percentage expenditure  Hepatitis B  Measles   ...  \\\n",
       "0             62     0.01               71.279624         65.0      1154  ...   \n",
       "1             64     0.01               73.523582         62.0       492  ...   \n",
       "2             66     0.01               73.219243         64.0       430  ...   \n",
       "\n",
       "   Polio  Total expenditure  Diphtheria    HIV/AIDS         GDP  Population  \\\n",
       "0    6.0               8.16         65.0        0.1  584.259210  33736494.0   \n",
       "1   58.0               8.18         62.0        0.1  612.696514    327582.0   \n",
       "2   62.0               8.13         64.0        0.1  631.744976  31731688.0   \n",
       "\n",
       "    thinness  1-19 years   thinness 5-9 years  \\\n",
       "0                   17.2                 17.3   \n",
       "1                   17.5                 17.5   \n",
       "2                   17.7                 17.7   \n",
       "\n",
       "   Income composition of resources  Schooling  \n",
       "0                            0.479       10.1  \n",
       "1                            0.476       10.0  \n",
       "2                            0.470        9.9  \n",
       "\n",
       "[3 rows x 22 columns]"
      ]
     },
     "execution_count": 3,
     "metadata": {},
     "output_type": "execute_result"
    }
   ],
   "source": [
    "life.head(3)"
   ]
  },
  {
   "cell_type": "code",
   "execution_count": null,
   "metadata": {
    "cell_id": "00006-3a1b7f1c-e26d-40a0-a9d0-3bf8e7f4be86",
    "deepnote_cell_type": "code",
    "deepnote_to_be_reexecuted": false,
    "execution_millis": 14,
    "execution_start": 1615250393570,
    "source_hash": "88defe5c"
   },
   "outputs": [
    {
     "name": "stdout",
     "output_type": "stream",
     "text": [
      "<class 'pandas.core.frame.DataFrame'>\n",
      "RangeIndex: 2938 entries, 0 to 2937\n",
      "Data columns (total 22 columns):\n",
      " #   Column                           Non-Null Count  Dtype  \n",
      "---  ------                           --------------  -----  \n",
      " 0   Country                          2938 non-null   object \n",
      " 1   Year                             2938 non-null   int64  \n",
      " 2   Status                           2938 non-null   object \n",
      " 3   Life expectancy                  2928 non-null   float64\n",
      " 4   Adult Mortality                  2928 non-null   float64\n",
      " 5   infant deaths                    2938 non-null   int64  \n",
      " 6   Alcohol                          2744 non-null   float64\n",
      " 7   percentage expenditure           2938 non-null   float64\n",
      " 8   Hepatitis B                      2385 non-null   float64\n",
      " 9   Measles                          2938 non-null   int64  \n",
      " 10   BMI                             2904 non-null   float64\n",
      " 11  under-five deaths                2938 non-null   int64  \n",
      " 12  Polio                            2919 non-null   float64\n",
      " 13  Total expenditure                2712 non-null   float64\n",
      " 14  Diphtheria                       2919 non-null   float64\n",
      " 15   HIV/AIDS                        2938 non-null   float64\n",
      " 16  GDP                              2490 non-null   float64\n",
      " 17  Population                       2286 non-null   float64\n",
      " 18   thinness  1-19 years            2904 non-null   float64\n",
      " 19   thinness 5-9 years              2904 non-null   float64\n",
      " 20  Income composition of resources  2771 non-null   float64\n",
      " 21  Schooling                        2775 non-null   float64\n",
      "dtypes: float64(16), int64(4), object(2)\n",
      "memory usage: 505.1+ KB\n"
     ]
    }
   ],
   "source": [
    "life.info()"
   ]
  },
  {
   "cell_type": "code",
   "execution_count": null,
   "metadata": {
    "cell_id": "00007-b5979eae-8f60-4960-8e07-d6236adcd99d",
    "deepnote_cell_type": "code",
    "deepnote_to_be_reexecuted": false,
    "execution_millis": 6,
    "execution_start": 1615250393588,
    "source_hash": "494a9887"
   },
   "outputs": [
    {
     "data": {
      "text/plain": [
       "Country                              0\n",
       "Year                                 0\n",
       "Status                               0\n",
       "Life expectancy                     10\n",
       "Adult Mortality                     10\n",
       "infant deaths                        0\n",
       "Alcohol                            194\n",
       "percentage expenditure               0\n",
       "Hepatitis B                        553\n",
       "Measles                              0\n",
       " BMI                                34\n",
       "under-five deaths                    0\n",
       "Polio                               19\n",
       "Total expenditure                  226\n",
       "Diphtheria                          19\n",
       " HIV/AIDS                            0\n",
       "GDP                                448\n",
       "Population                         652\n",
       " thinness  1-19 years               34\n",
       " thinness 5-9 years                 34\n",
       "Income composition of resources    167\n",
       "Schooling                          163\n",
       "dtype: int64"
      ]
     },
     "execution_count": 5,
     "metadata": {},
     "output_type": "execute_result"
    }
   ],
   "source": [
    "life.isnull().sum()"
   ]
  },
  {
   "cell_type": "code",
   "execution_count": null,
   "metadata": {
    "cell_id": "00008-76d82b72-75a4-45d8-bb0c-e9578c9daaf1",
    "deepnote_cell_type": "code",
    "deepnote_to_be_reexecuted": false,
    "execution_millis": 3,
    "execution_start": 1615250393592,
    "source_hash": "a38c3499"
   },
   "outputs": [],
   "source": [
    "# since our target varible is Life expectancy, so we need to delete those missing life expectancy\n",
    "life = life[~life['Life expectancy '].isnull()]"
   ]
  },
  {
   "cell_type": "code",
   "execution_count": null,
   "metadata": {
    "cell_id": "00009-037665e7-37a9-458e-bdc2-2967e78437a1",
    "deepnote_cell_type": "code",
    "deepnote_to_be_reexecuted": false,
    "execution_millis": 7,
    "execution_start": 1615250393599,
    "source_hash": "8fd1cc45"
   },
   "outputs": [
    {
     "data": {
      "text/plain": [
       "(2928, 22)"
      ]
     },
     "execution_count": 7,
     "metadata": {},
     "output_type": "execute_result"
    }
   ],
   "source": [
    "life.shape"
   ]
  },
  {
   "cell_type": "code",
   "execution_count": null,
   "metadata": {
    "cell_id": "00010-1ebb24ef-b3c5-4288-85b6-e4b13fedc668",
    "deepnote_cell_type": "code",
    "deepnote_to_be_reexecuted": false,
    "execution_millis": 1,
    "execution_start": 1615250393626,
    "source_hash": "3f27a810"
   },
   "outputs": [],
   "source": [
    "# Make those int values except year as float so that to treat them as numeric\n",
    "int_cols = ['infant deaths', 'Measles ', 'under-five deaths ']\n",
    "life[int_cols] = life[int_cols].astype(float)"
   ]
  },
  {
   "cell_type": "code",
   "execution_count": null,
   "metadata": {
    "cell_id": "00011-4a8a20bd-3d4d-45ed-9118-e20fd58f8078",
    "deepnote_cell_type": "code",
    "deepnote_to_be_reexecuted": false,
    "execution_millis": 0,
    "execution_start": 1615250393627,
    "source_hash": "994aec9"
   },
   "outputs": [],
   "source": [
    "# Set life expectancy variable as target variable\n",
    "y = life['Life expectancy ']"
   ]
  },
  {
   "cell_type": "code",
   "execution_count": null,
   "metadata": {
    "cell_id": "00012-a295261f-0928-4009-823a-9cace10e53b6",
    "deepnote_cell_type": "code",
    "deepnote_to_be_reexecuted": false,
    "execution_millis": 0,
    "execution_start": 1615250393628,
    "source_hash": "5603576b"
   },
   "outputs": [],
   "source": [
    "cols = list(life.columns)"
   ]
  },
  {
   "cell_type": "code",
   "execution_count": null,
   "metadata": {
    "cell_id": "00013-cceec077-dea3-4ae7-a4fd-fe176a968c6d",
    "deepnote_cell_type": "code",
    "deepnote_to_be_reexecuted": false,
    "execution_millis": 1,
    "execution_start": 1615250393628,
    "source_hash": "55dc05c5"
   },
   "outputs": [],
   "source": [
    "cols.remove('Life expectancy ')"
   ]
  },
  {
   "cell_type": "code",
   "execution_count": null,
   "metadata": {
    "cell_id": "00014-ee35c7e2-56b8-4629-b95a-507f691f98c1",
    "deepnote_cell_type": "code",
    "deepnote_to_be_reexecuted": false,
    "execution_millis": 1,
    "execution_start": 1615250393631,
    "source_hash": "fe768f99"
   },
   "outputs": [],
   "source": [
    "X = life[cols]"
   ]
  },
  {
   "cell_type": "markdown",
   "metadata": {
    "cell_id": "00016-b0ee4631-7682-441b-86dc-a453dddffc96",
    "deepnote_cell_type": "markdown"
   },
   "source": [
    "## 1.1 Split Data for training and testing\n",
    "Here we choose data before 2015 for model training and data of 2015 for model testing"
   ]
  },
  {
   "cell_type": "code",
   "execution_count": null,
   "metadata": {
    "cell_id": "00017-62044303-0a0c-4a82-b72c-a95e707041fd",
    "deepnote_cell_type": "code",
    "deepnote_to_be_reexecuted": false,
    "execution_millis": 6,
    "execution_start": 1615250393640,
    "source_hash": "adc12b66"
   },
   "outputs": [],
   "source": [
    "X_train = X[X.Year != 2015]\n",
    "X_test = X[X.Year == 2015]"
   ]
  },
  {
   "cell_type": "code",
   "execution_count": null,
   "metadata": {
    "cell_id": "00018-63fc6eaa-34f0-46de-ab67-8a115b208156",
    "deepnote_cell_type": "code",
    "deepnote_to_be_reexecuted": false,
    "execution_millis": 1,
    "execution_start": 1615250393678,
    "source_hash": "5154b43"
   },
   "outputs": [],
   "source": [
    "y_train = y[X.Year != 2015]\n",
    "y_test = y[X.Year == 2015]"
   ]
  },
  {
   "cell_type": "code",
   "execution_count": null,
   "metadata": {
    "cell_id": "00019-2bc22d58-dc6d-4215-9edf-5e76fa2631a3",
    "deepnote_cell_type": "code",
    "deepnote_to_be_reexecuted": false,
    "execution_millis": 0,
    "execution_start": 1615250393679,
    "source_hash": "966d895c"
   },
   "outputs": [],
   "source": [
    "cols.remove('Year')\n",
    "X_train = X_train[cols]\n",
    "X_test = X_test[cols]"
   ]
  },
  {
   "cell_type": "code",
   "execution_count": null,
   "metadata": {
    "cell_id": "00022-c0951214-db45-4c39-9dc7-7ecc4b7dbe42",
    "deepnote_cell_type": "code",
    "deepnote_to_be_reexecuted": false,
    "execution_millis": 9,
    "execution_start": 1615250393683,
    "source_hash": "ea5d12e"
   },
   "outputs": [
    {
     "data": {
      "text/plain": [
       "((2745, 20), (183, 20))"
      ]
     },
     "execution_count": 19,
     "metadata": {},
     "output_type": "execute_result"
    }
   ],
   "source": [
    "X_train.shape, X_test.shape"
   ]
  },
  {
   "cell_type": "code",
   "execution_count": null,
   "metadata": {
    "cell_id": "00023-58e82a25-a0fb-443b-8c36-5777a008099b",
    "deepnote_cell_type": "code",
    "deepnote_to_be_reexecuted": false,
    "execution_millis": 7,
    "execution_start": 1615250393688,
    "source_hash": "2175c87"
   },
   "outputs": [
    {
     "data": {
      "text/plain": [
       "Index(['Country', 'Status', 'Adult Mortality', 'infant deaths', 'Alcohol',\n",
       "       'percentage expenditure', 'Hepatitis B', 'Measles ', ' BMI ',\n",
       "       'under-five deaths ', 'Polio', 'Total expenditure', 'Diphtheria ',\n",
       "       ' HIV/AIDS', 'GDP', 'Population', ' thinness  1-19 years',\n",
       "       ' thinness 5-9 years', 'Income composition of resources', 'Schooling'],\n",
       "      dtype='object')"
      ]
     },
     "execution_count": 20,
     "metadata": {},
     "output_type": "execute_result"
    }
   ],
   "source": [
    "X_train.columns"
   ]
  },
  {
   "cell_type": "markdown",
   "metadata": {
    "cell_id": "00024-4f4c0835-c0d8-4cb2-8cd5-a26c65ed839a",
    "deepnote_cell_type": "markdown"
   },
   "source": [
    "## 2. Data Preprocessing\n",
    "In this process, we are going to include data imputation to better process data for analyzing."
   ]
  },
  {
   "cell_type": "code",
   "execution_count": null,
   "metadata": {
    "cell_id": "00025-b7815516-f084-4c23-ba4e-bb7ae5a8575c",
    "deepnote_cell_type": "code",
    "deepnote_to_be_reexecuted": false,
    "execution_millis": 6,
    "execution_start": 1615250393693,
    "source_hash": "552ae37f"
   },
   "outputs": [
    {
     "name": "stdout",
     "output_type": "stream",
     "text": [
      "-Num ['Adult Mortality', 'infant deaths', 'Alcohol', 'percentage expenditure', 'Hepatitis B', 'Measles ', ' BMI ', 'under-five deaths ', 'Polio', 'Total expenditure', 'Diphtheria ', ' HIV/AIDS', 'GDP', 'Population', ' thinness  1-19 years', ' thinness 5-9 years', 'Income composition of resources', 'Schooling']\n",
      "-Cat ['Country', 'Status'] \n",
      "\n"
     ]
    }
   ],
   "source": [
    "mask_num = X_train.dtypes == (float or int)\n",
    "columns_num = X_train.columns[mask_num].tolist()\n",
    "columns_cat = X_train.columns[~mask_num].tolist()\n",
    "\n",
    "print('-Num', columns_num)\n",
    "print('-Cat', columns_cat, '\\n')"
   ]
  },
  {
   "cell_type": "code",
   "execution_count": null,
   "metadata": {
    "cell_id": "00026-f5d3ce56-511d-4497-a0bc-4c9b33e21cb4",
    "deepnote_cell_type": "code",
    "deepnote_to_be_reexecuted": false,
    "execution_millis": 6,
    "execution_start": 1615250393718,
    "source_hash": "fdbfa372"
   },
   "outputs": [
    {
     "data": {
      "application/vnd.deepnote.dataframe.v2+json": {
       "column_count": 2,
       "columns": [
        {
         "dtype": "object",
         "name": "Country",
         "stats": {
          "categories": [
           {
            "count": 3,
            "name": "Afghanistan"
           }
          ],
          "nan_count": 0,
          "unique_count": 1
         }
        },
        {
         "dtype": "object",
         "name": "Status",
         "stats": {
          "categories": [
           {
            "count": 3,
            "name": "Developing"
           }
          ],
          "nan_count": 0,
          "unique_count": 1
         }
        },
        {
         "dtype": "int64",
         "name": "_deepnote_index_column"
        }
       ],
       "row_count": 3,
       "rows_bottom": null,
       "rows_top": [
        {
         "Country": "Afghanistan",
         "Status": "Developing",
         "_deepnote_index_column": 0
        },
        {
         "Country": "Afghanistan",
         "Status": "Developing",
         "_deepnote_index_column": 1
        },
        {
         "Country": "Afghanistan",
         "Status": "Developing",
         "_deepnote_index_column": 2
        }
       ]
      },
      "text/html": [
       "<div>\n",
       "<style scoped>\n",
       "    .dataframe tbody tr th:only-of-type {\n",
       "        vertical-align: middle;\n",
       "    }\n",
       "\n",
       "    .dataframe tbody tr th {\n",
       "        vertical-align: top;\n",
       "    }\n",
       "\n",
       "    .dataframe thead th {\n",
       "        text-align: right;\n",
       "    }\n",
       "</style>\n",
       "<table border=\"1\" class=\"dataframe\">\n",
       "  <thead>\n",
       "    <tr style=\"text-align: right;\">\n",
       "      <th></th>\n",
       "      <th>Country</th>\n",
       "      <th>Status</th>\n",
       "    </tr>\n",
       "  </thead>\n",
       "  <tbody>\n",
       "    <tr>\n",
       "      <th>0</th>\n",
       "      <td>Afghanistan</td>\n",
       "      <td>Developing</td>\n",
       "    </tr>\n",
       "    <tr>\n",
       "      <th>1</th>\n",
       "      <td>Afghanistan</td>\n",
       "      <td>Developing</td>\n",
       "    </tr>\n",
       "    <tr>\n",
       "      <th>2</th>\n",
       "      <td>Afghanistan</td>\n",
       "      <td>Developing</td>\n",
       "    </tr>\n",
       "  </tbody>\n",
       "</table>\n",
       "</div>"
      ],
      "text/plain": [
       "       Country      Status\n",
       "0  Afghanistan  Developing\n",
       "1  Afghanistan  Developing\n",
       "2  Afghanistan  Developing"
      ]
     },
     "execution_count": 22,
     "metadata": {},
     "output_type": "execute_result"
    }
   ],
   "source": [
    "life[columns_cat].head(3)"
   ]
  },
  {
   "cell_type": "markdown",
   "metadata": {
    "cell_id": "00027-20ac0b28-e65d-4798-a39c-8dd95bd4acc8",
    "deepnote_cell_type": "markdown"
   },
   "source": [
    "### 2.1 Imputation"
   ]
  },
  {
   "cell_type": "code",
   "execution_count": null,
   "metadata": {
    "cell_id": "00028-30534d67-0c4b-42a8-9bb7-0e3f84032500",
    "deepnote_cell_type": "code",
    "deepnote_to_be_reexecuted": false,
    "execution_millis": 1,
    "execution_start": 1615250393719,
    "source_hash": "d67870ee"
   },
   "outputs": [],
   "source": [
    "cat_pipe = Pipeline([('imputer', SimpleImputer(missing_values=np.nan,\n",
    "                                               strategy='most_frequent')),\n",
    "                      ('ohe', OneHotEncoder())\n",
    "                     ])\n",
    "con_pipe = Pipeline([('imputer', SimpleImputer(missing_values=np.nan,\n",
    "                                               strategy='median')),\n",
    "                    ('scaler', StandardScaler())\n",
    "                      ])\n",
    "preprocessing = ColumnTransformer([('categorical', cat_pipe, columns_cat),\n",
    "                                   ('continuous',  con_pipe, columns_num)\n",
    "                                   ])"
   ]
  },
  {
   "cell_type": "markdown",
   "metadata": {
    "cell_id": "00029-9347079f-88be-4dc2-8f86-5b7036314c62",
    "deepnote_cell_type": "markdown"
   },
   "source": [
    "## 3. Model Training\n",
    "In this section, I chose Linear Regression, Ridge, Lasso, Decision Tree Regressor and RandomForest Regressor. For evaluation metrics, I chose the root mean squared error for the reason that first, this is common used in data analyzing and secondly, it gives penalities to large prediction error compared to MSE. Also, unlike r2_score, it would consider overfitting problems of models."
   ]
  },
  {
   "cell_type": "code",
   "execution_count": null,
   "metadata": {
    "cell_id": "00030-b2ab9483-3a83-4a80-841c-a3695f4084e3",
    "deepnote_cell_type": "code",
    "deepnote_to_be_reexecuted": false,
    "execution_millis": 3,
    "execution_start": 1615250393720,
    "source_hash": "7232943d"
   },
   "outputs": [],
   "source": [
    "# Create a search space for randomized search\n",
    "search_space = [\n",
    "    {\n",
    "        'clf': [LinearRegression()]\n",
    "    },\n",
    "    {\n",
    "        'clf': [Ridge()],\n",
    "        'clf__alpha': [200, 230, 250,265, 270, 275, 290, 300, 500]\n",
    "    },\n",
    "    {\n",
    "        'clf': [Lasso()],\n",
    "        'clf__alpha': [0.02, 0.024, 0.025, 0.026, 0.03]\n",
    "    },\n",
    "    {\n",
    "        'clf': [DecisionTreeRegressor()],\n",
    "        'clf__criterion': [\"mse\", \"mae\"],\n",
    "        'clf__min_samples_split': [10, 20, 40],\n",
    "        'clf__max_depth': [2, 6, 8],\n",
    "        'clf__min_samples_leaf': [20, 40, 100],\n",
    "        'clf__max_leaf_nodes': [5, 20, 100]\n",
    "        \n",
    "    },\n",
    "    {\n",
    "        'clf': [RandomForestRegressor()],\n",
    "        'clf__bootstrap': [True, False],\n",
    "        'clf__max_depth': [10, 20, 30, 40, 50, 60, 70, 80, 90, 100, None],\n",
    "        'clf__max_features': ['auto', 'sqrt'],\n",
    "        'clf__min_samples_leaf': [1, 2, 4],\n",
    "        'clf__min_samples_split': [2, 5, 10],\n",
    "        'clf__n_estimators': [200, 400, 600, 800, 1000, 1200, 1400, 1600, 1800, 2000]\n",
    "    }\n",
    "]"
   ]
  },
  {
   "cell_type": "code",
   "execution_count": null,
   "metadata": {
    "cell_id": "00031-b459ddf8-a69d-419c-a530-365433fbd901",
    "deepnote_cell_type": "code",
    "deepnote_to_be_reexecuted": false,
    "execution_millis": 3,
    "execution_start": 1615250393726,
    "source_hash": "679e6b1b"
   },
   "outputs": [],
   "source": [
    "class DummyEstimator(BaseEstimator):\n",
    "    \"Pass through class, methods are present but do nothing.\"\n",
    "    def fit(self): pass\n",
    "    def score(self): pass"
   ]
  },
  {
   "cell_type": "code",
   "execution_count": null,
   "metadata": {
    "cell_id": "00032-914ba1af-0190-42bd-9384-16fbe099a631",
    "deepnote_cell_type": "code",
    "deepnote_to_be_reexecuted": false,
    "execution_millis": 2,
    "execution_start": 1615250393730,
    "source_hash": "d8e0543"
   },
   "outputs": [],
   "source": [
    "pipe = Pipeline([('preprocessing', preprocessing),\n",
    "                ('clf', DummyEstimator())])"
   ]
  },
  {
   "cell_type": "code",
   "execution_count": null,
   "metadata": {
    "cell_id": "00033-4e48c555-f974-495f-8b33-1fb68b2af384",
    "deepnote_cell_type": "code",
    "deepnote_to_be_reexecuted": false,
    "execution_millis": 3551257,
    "execution_start": 1615250393737,
    "source_hash": "fc09470b"
   },
   "outputs": [
    {
     "name": "stdout",
     "output_type": "stream",
     "text": [
      "Fitting 5 folds for each of 25 candidates, totalling 125 fits\n",
      "/shared-libs/python3.7/py/lib/python3.7/site-packages/sklearn/model_selection/_search.py:921: UserWarning: One or more of the test scores are non-finite: [nan nan nan nan nan nan nan nan nan nan nan nan nan nan nan nan nan nan\n",
      " nan nan nan nan nan nan nan]\n",
      "  category=UserWarning\n"
     ]
    }
   ],
   "source": [
    "clf_algos_rand = RandomizedSearchCV(estimator=pipe, \n",
    "                                    param_distributions=search_space, \n",
    "                                    n_iter=25,\n",
    "                                    cv=5, \n",
    "                                    n_jobs=-1,\n",
    "                                    verbose=1,\n",
    "                                   scoring = 'neg_root_mean_squared_error')\n",
    "#  Fit grid search\n",
    "best_model = clf_algos_rand.fit(X_train, y_train)"
   ]
  },
  {
   "cell_type": "code",
   "execution_count": null,
   "metadata": {
    "cell_id": "00034-fb03aa6f-5792-4d36-810a-cabff1710532",
    "deepnote_cell_type": "code",
    "deepnote_to_be_reexecuted": false,
    "execution_millis": 11,
    "execution_start": 1615253945000,
    "source_hash": "5c3f14ee"
   },
   "outputs": [
    {
     "data": {
      "text/plain": [
       "{'clf__n_estimators': 200,\n",
       " 'clf__min_samples_split': 5,\n",
       " 'clf__min_samples_leaf': 1,\n",
       " 'clf__max_features': 'auto',\n",
       " 'clf__max_depth': 40,\n",
       " 'clf__bootstrap': True,\n",
       " 'clf': RandomForestRegressor(max_depth=40, min_samples_split=5, n_estimators=200)}"
      ]
     },
     "execution_count": 28,
     "metadata": {},
     "output_type": "execute_result"
    }
   ],
   "source": [
    "best_model.best_params_"
   ]
  },
  {
   "cell_type": "code",
   "execution_count": null,
   "metadata": {
    "cell_id": "00035-69d789cc-f353-4320-b232-be37195dbdb5",
    "deepnote_cell_type": "code",
    "deepnote_to_be_reexecuted": false,
    "execution_millis": 2,
    "execution_start": 1615254813817,
    "source_hash": "706bc70",
    "tags": []
   },
   "outputs": [],
   "source": [
    "hyperparameters = best_model.best_params_['clf'].get_params()"
   ]
  },
  {
   "cell_type": "code",
   "execution_count": null,
   "metadata": {
    "cell_id": "00035-00d6e23a-3f75-4cea-a42c-2438e8de3e44",
    "deepnote_cell_type": "code",
    "deepnote_to_be_reexecuted": false,
    "execution_millis": 6,
    "execution_start": 1615254824728,
    "source_hash": "a4b829c"
   },
   "outputs": [
    {
     "data": {
      "text/plain": [
       "{'bootstrap': True,\n",
       " 'ccp_alpha': 0.0,\n",
       " 'criterion': 'mse',\n",
       " 'max_depth': 40,\n",
       " 'max_features': 'auto',\n",
       " 'max_leaf_nodes': None,\n",
       " 'max_samples': None,\n",
       " 'min_impurity_decrease': 0.0,\n",
       " 'min_impurity_split': None,\n",
       " 'min_samples_leaf': 1,\n",
       " 'min_samples_split': 5,\n",
       " 'min_weight_fraction_leaf': 0.0,\n",
       " 'n_estimators': 200,\n",
       " 'n_jobs': None,\n",
       " 'oob_score': False,\n",
       " 'random_state': None,\n",
       " 'verbose': 0,\n",
       " 'warm_start': False}"
      ]
     },
     "execution_count": 55,
     "metadata": {},
     "output_type": "execute_result"
    }
   ],
   "source": [
    "hyperparameters"
   ]
  },
  {
   "cell_type": "code",
   "execution_count": null,
   "metadata": {
    "cell_id": "00036-33f525f6-af70-4d0c-9669-6607613c2f56",
    "deepnote_cell_type": "code",
    "deepnote_to_be_reexecuted": false,
    "execution_millis": 15472,
    "execution_start": 1615254630129,
    "source_hash": "6befc241"
   },
   "outputs": [
    {
     "data": {
      "text/plain": [
       "Pipeline(steps=[('preprocessing',\n",
       "                 ColumnTransformer(transformers=[('categorical',\n",
       "                                                  Pipeline(steps=[('imputer',\n",
       "                                                                   SimpleImputer(strategy='most_frequent')),\n",
       "                                                                  ('ohe',\n",
       "                                                                   OneHotEncoder())]),\n",
       "                                                  ['Country', 'Status']),\n",
       "                                                 ('continuous',\n",
       "                                                  Pipeline(steps=[('imputer',\n",
       "                                                                   SimpleImputer(strategy='median')),\n",
       "                                                                  ('scaler',\n",
       "                                                                   StandardScaler())]),\n",
       "                                                  ['Adult Mortality',\n",
       "                                                   'infant deaths', 'Alcohol',\n",
       "                                                   'percentage expenditure',\n",
       "                                                   'Hepatitis B', 'Measles ',\n",
       "                                                   ' BMI ',\n",
       "                                                   'under-five deaths ',\n",
       "                                                   'Polio', 'Total expenditure',\n",
       "                                                   'Diphtheria ', ' HIV/AIDS',\n",
       "                                                   'GDP', 'Population',\n",
       "                                                   ' thinness  1-19 years',\n",
       "                                                   ' thinness 5-9 years',\n",
       "                                                   'Income composition of '\n",
       "                                                   'resources',\n",
       "                                                   'Schooling'])])),\n",
       "                ('rf',\n",
       "                 RandomForestRegressor(max_depth=40, min_samples_split=5,\n",
       "                                       n_estimators=200))])"
      ]
     },
     "execution_count": 47,
     "metadata": {},
     "output_type": "execute_result"
    }
   ],
   "source": [
    "pipe = Pipeline([('preprocessing', preprocessing),\n",
    "                ('rf', RandomForestRegressor(**hyperparameters))])\n",
    "pipe.fit(X_train, y_train)"
   ]
  },
  {
   "cell_type": "markdown",
   "metadata": {
    "cell_id": "00037-8d356b77-b56f-43de-9b53-191e0bbdb91c",
    "deepnote_cell_type": "markdown"
   },
   "source": [
    "## 4. Evaluation"
   ]
  },
  {
   "cell_type": "code",
   "execution_count": null,
   "metadata": {
    "cell_id": "00038-767e2d5b-5504-4444-8110-105ef70c5020",
    "deepnote_cell_type": "code",
    "deepnote_to_be_reexecuted": false,
    "execution_millis": 0,
    "execution_start": 1615254645595,
    "source_hash": "894aad48"
   },
   "outputs": [],
   "source": [
    "pred = pipe.predict(X_test)\n",
    "rmse = np.sqrt(mean_squared_error(y_test, pred))"
   ]
  },
  {
   "cell_type": "code",
   "execution_count": null,
   "metadata": {
    "cell_id": "00039-f90030d7-3b98-4bbd-a3d6-ac7c2da343a2",
    "deepnote_cell_type": "code",
    "deepnote_to_be_reexecuted": false,
    "execution_millis": 5,
    "execution_start": 1615254645596,
    "source_hash": "4e134438"
   },
   "outputs": [
    {
     "name": "stdout",
     "output_type": "stream",
     "text": [
      "RMSE of the best model is:  1.8841969794003746\n"
     ]
    }
   ],
   "source": [
    "print('RMSE of the best model is: ', rmse)"
   ]
  },
  {
   "cell_type": "markdown",
   "metadata": {
    "cell_id": "00038-6558fe39-228d-44a0-b9b3-300584e8512a",
    "deepnote_cell_type": "markdown",
    "tags": []
   },
   "source": []
  },
  {
   "cell_type": "code",
   "execution_count": null,
   "metadata": {
    "cell_id": "00040-c31578b9-381a-4d0f-b16c-2cc3cfb8ec97",
    "deepnote_cell_type": "code",
    "deepnote_to_be_reexecuted": false,
    "execution_millis": 1,
    "execution_start": 1615254753102,
    "source_hash": "bf265acd"
   },
   "outputs": [],
   "source": [
    "r2 = r2_score(y_test, pred)"
   ]
  },
  {
   "cell_type": "code",
   "execution_count": null,
   "metadata": {
    "cell_id": "00041-d510863b-8451-4c70-9632-f6f3f39ed93d",
    "deepnote_cell_type": "code",
    "deepnote_to_be_reexecuted": false,
    "execution_millis": 7,
    "execution_start": 1615254753402,
    "source_hash": "c1d5e39b"
   },
   "outputs": [
    {
     "name": "stdout",
     "output_type": "stream",
     "text": [
      "R2 score of the best model is:  0.9459091386884451\n"
     ]
    }
   ],
   "source": [
    "print('R2 score of the best model is: ', r2)"
   ]
  },
  {
   "cell_type": "markdown",
   "metadata": {
    "cell_id": "00040-43c17a1d-1649-4c98-981b-5da99ef5f89c",
    "deepnote_cell_type": "markdown",
    "tags": []
   },
   "source": []
  },
  {
   "cell_type": "markdown",
   "metadata": {
    "cell_id": "00042-948bd67b-e310-4d84-9a2e-4546caa5f072",
    "deepnote_cell_type": "markdown"
   },
   "source": [
    "## 5. Feature Importance"
   ]
  },
  {
   "cell_type": "code",
   "execution_count": null,
   "metadata": {
    "cell_id": "00043-72a67384-f146-4e17-a8c6-e80b1e42d3ef",
    "deepnote_cell_type": "code",
    "deepnote_to_be_reexecuted": false,
    "execution_millis": 29095,
    "execution_start": 1615253967686,
    "source_hash": "99007e9"
   },
   "outputs": [],
   "source": [
    "r = permutation_importance(pipe, \n",
    "                           X_test, y_test, \n",
    "                           n_repeats=30,\n",
    "                           random_state=42)"
   ]
  },
  {
   "cell_type": "code",
   "execution_count": null,
   "metadata": {
    "cell_id": "00044-78949c17-8c9d-4954-a1e5-2766b9467c59",
    "deepnote_cell_type": "code",
    "deepnote_to_be_reexecuted": false,
    "execution_millis": 0,
    "execution_start": 1615253996782,
    "source_hash": "c05013d"
   },
   "outputs": [],
   "source": [
    "feature_importance = pd.DataFrame()\n",
    "mean = []\n",
    "std = []\n",
    "columns = []"
   ]
  },
  {
   "cell_type": "code",
   "execution_count": null,
   "metadata": {
    "cell_id": "00045-1ba6f6fc-0e1e-4cfc-88f0-5d95d92e86b2",
    "deepnote_cell_type": "code",
    "deepnote_to_be_reexecuted": false,
    "execution_millis": 1,
    "execution_start": 1615253996782,
    "source_hash": "26ca3602"
   },
   "outputs": [],
   "source": [
    "for i in r.importances_mean.argsort()[::-1]:\n",
    "    columns.append(X_train.columns[i])\n",
    "    mean.append(round(r.importances_mean[i], 3))\n",
    "    std.append(round(r.importances_std[i], 3))"
   ]
  },
  {
   "cell_type": "code",
   "execution_count": null,
   "metadata": {
    "cell_id": "00046-6bbe79c4-46ea-45d9-896f-82def4db19f6",
    "deepnote_cell_type": "code",
    "deepnote_to_be_reexecuted": false,
    "execution_millis": 1,
    "execution_start": 1615253996783,
    "source_hash": "2ccad002"
   },
   "outputs": [],
   "source": [
    "feature_importance['Cols'] = columns\n",
    "feature_importance['Mean'] = mean\n",
    "feature_importance['Std'] = std"
   ]
  },
  {
   "cell_type": "code",
   "execution_count": null,
   "metadata": {
    "cell_id": "00047-4d6af542-c2f3-42db-bbe0-b7509fa522cf",
    "deepnote_cell_type": "code",
    "deepnote_to_be_reexecuted": false,
    "execution_millis": 8,
    "execution_start": 1615253996801,
    "source_hash": "56b6738b"
   },
   "outputs": [
    {
     "data": {
      "application/vnd.deepnote.dataframe.v2+json": {
       "column_count": 3,
       "columns": [
        {
         "dtype": "object",
         "name": "Cols",
         "stats": {
          "categories": [
           {
            "count": 1,
            "name": "Income composition of resources"
           },
           {
            "count": 1,
            "name": "Adult Mortality"
           },
           {
            "count": 18,
            "name": "18 others"
           }
          ],
          "nan_count": 0,
          "unique_count": 20
         }
        },
        {
         "dtype": "float64",
         "name": "Mean",
         "stats": {
          "histogram": [
           {
            "bin_end": 0.026600000000000002,
            "bin_start": 0,
            "count": 17
           },
           {
            "bin_end": 0.053200000000000004,
            "bin_start": 0.026600000000000002,
            "count": 0
           },
           {
            "bin_end": 0.07980000000000001,
            "bin_start": 0.053200000000000004,
            "count": 0
           },
           {
            "bin_end": 0.10640000000000001,
            "bin_start": 0.07980000000000001,
            "count": 0
           },
           {
            "bin_end": 0.133,
            "bin_start": 0.10640000000000001,
            "count": 0
           },
           {
            "bin_end": 0.15960000000000002,
            "bin_start": 0.133,
            "count": 0
           },
           {
            "bin_end": 0.1862,
            "bin_start": 0.15960000000000002,
            "count": 0
           },
           {
            "bin_end": 0.21280000000000002,
            "bin_start": 0.1862,
            "count": 1
           },
           {
            "bin_end": 0.23940000000000003,
            "bin_start": 0.21280000000000002,
            "count": 1
           },
           {
            "bin_end": 0.266,
            "bin_start": 0.23940000000000003,
            "count": 1
           }
          ],
          "max": 0.266,
          "min": 0,
          "nan_count": 0,
          "unique_count": 11
         }
        },
        {
         "dtype": "float64",
         "name": "Std",
         "stats": {
          "histogram": [
           {
            "bin_end": 0.0036999999999999997,
            "bin_start": 0,
            "count": 16
           },
           {
            "bin_end": 0.0073999999999999995,
            "bin_start": 0.0036999999999999997,
            "count": 1
           },
           {
            "bin_end": 0.011099999999999999,
            "bin_start": 0.0073999999999999995,
            "count": 0
           },
           {
            "bin_end": 0.014799999999999999,
            "bin_start": 0.011099999999999999,
            "count": 0
           },
           {
            "bin_end": 0.0185,
            "bin_start": 0.014799999999999999,
            "count": 0
           },
           {
            "bin_end": 0.022199999999999998,
            "bin_start": 0.0185,
            "count": 0
           },
           {
            "bin_end": 0.0259,
            "bin_start": 0.022199999999999998,
            "count": 0
           },
           {
            "bin_end": 0.029599999999999998,
            "bin_start": 0.0259,
            "count": 1
           },
           {
            "bin_end": 0.033299999999999996,
            "bin_start": 0.029599999999999998,
            "count": 0
           },
           {
            "bin_end": 0.037,
            "bin_start": 0.033299999999999996,
            "count": 2
           }
          ],
          "max": 0.037,
          "min": 0,
          "nan_count": 0,
          "unique_count": 8
         }
        },
        {
         "dtype": "int64",
         "name": "_deepnote_index_column"
        }
       ],
       "row_count": 20,
       "rows_bottom": null,
       "rows_top": [
        {
         "Cols": "Income composition of resources",
         "Mean": 0.266,
         "Std": 0.034,
         "_deepnote_index_column": 0
        },
        {
         "Cols": "Adult Mortality",
         "Mean": 0.234,
         "Std": 0.027,
         "_deepnote_index_column": 1
        },
        {
         "Cols": " HIV/AIDS",
         "Mean": 0.212,
         "Std": 0.037,
         "_deepnote_index_column": 2
        },
        {
         "Cols": " thinness 5-9 years",
         "Mean": 0.016,
         "Std": 0.004,
         "_deepnote_index_column": 3
        },
        {
         "Cols": "Schooling",
         "Mean": 0.011,
         "Std": 0.003,
         "_deepnote_index_column": 4
        },
        {
         "Cols": "under-five deaths ",
         "Mean": 0.008,
         "Std": 0.002,
         "_deepnote_index_column": 5
        },
        {
         "Cols": " thinness  1-19 years",
         "Mean": 0.005,
         "Std": 0.001,
         "_deepnote_index_column": 6
        },
        {
         "Cols": "Polio",
         "Mean": 0.005,
         "Std": 0.002,
         "_deepnote_index_column": 7
        },
        {
         "Cols": "GDP",
         "Mean": 0.004,
         "Std": 0.001,
         "_deepnote_index_column": 8
        },
        {
         "Cols": " BMI ",
         "Mean": 0.004,
         "Std": 0.002,
         "_deepnote_index_column": 9
        },
        {
         "Cols": "Country",
         "Mean": 0.002,
         "Std": 0.001,
         "_deepnote_index_column": 10
        },
        {
         "Cols": "infant deaths",
         "Mean": 0.002,
         "Std": 0.001,
         "_deepnote_index_column": 11
        },
        {
         "Cols": "Hepatitis B",
         "Mean": 0.001,
         "Std": 0.001,
         "_deepnote_index_column": 12
        },
        {
         "Cols": "Population",
         "Mean": 0.001,
         "Std": 0,
         "_deepnote_index_column": 13
        },
        {
         "Cols": "Alcohol",
         "Mean": 0,
         "Std": 0,
         "_deepnote_index_column": 14
        },
        {
         "Cols": "Status",
         "Mean": 0,
         "Std": 0,
         "_deepnote_index_column": 15
        },
        {
         "Cols": "Measles ",
         "Mean": 0,
         "Std": 0.001,
         "_deepnote_index_column": 16
        },
        {
         "Cols": "Total expenditure",
         "Mean": 0,
         "Std": 0,
         "_deepnote_index_column": 17
        },
        {
         "Cols": "Diphtheria ",
         "Mean": 0,
         "Std": 0.001,
         "_deepnote_index_column": 18
        },
        {
         "Cols": "percentage expenditure",
         "Mean": 0,
         "Std": 0,
         "_deepnote_index_column": 19
        }
       ]
      },
      "text/html": [
       "<div>\n",
       "<style scoped>\n",
       "    .dataframe tbody tr th:only-of-type {\n",
       "        vertical-align: middle;\n",
       "    }\n",
       "\n",
       "    .dataframe tbody tr th {\n",
       "        vertical-align: top;\n",
       "    }\n",
       "\n",
       "    .dataframe thead th {\n",
       "        text-align: right;\n",
       "    }\n",
       "</style>\n",
       "<table border=\"1\" class=\"dataframe\">\n",
       "  <thead>\n",
       "    <tr style=\"text-align: right;\">\n",
       "      <th></th>\n",
       "      <th>Cols</th>\n",
       "      <th>Mean</th>\n",
       "      <th>Std</th>\n",
       "    </tr>\n",
       "  </thead>\n",
       "  <tbody>\n",
       "    <tr>\n",
       "      <th>0</th>\n",
       "      <td>Income composition of resources</td>\n",
       "      <td>0.266</td>\n",
       "      <td>0.034</td>\n",
       "    </tr>\n",
       "    <tr>\n",
       "      <th>1</th>\n",
       "      <td>Adult Mortality</td>\n",
       "      <td>0.234</td>\n",
       "      <td>0.027</td>\n",
       "    </tr>\n",
       "    <tr>\n",
       "      <th>2</th>\n",
       "      <td>HIV/AIDS</td>\n",
       "      <td>0.212</td>\n",
       "      <td>0.037</td>\n",
       "    </tr>\n",
       "    <tr>\n",
       "      <th>3</th>\n",
       "      <td>thinness 5-9 years</td>\n",
       "      <td>0.016</td>\n",
       "      <td>0.004</td>\n",
       "    </tr>\n",
       "    <tr>\n",
       "      <th>4</th>\n",
       "      <td>Schooling</td>\n",
       "      <td>0.011</td>\n",
       "      <td>0.003</td>\n",
       "    </tr>\n",
       "    <tr>\n",
       "      <th>5</th>\n",
       "      <td>under-five deaths</td>\n",
       "      <td>0.008</td>\n",
       "      <td>0.002</td>\n",
       "    </tr>\n",
       "    <tr>\n",
       "      <th>6</th>\n",
       "      <td>thinness  1-19 years</td>\n",
       "      <td>0.005</td>\n",
       "      <td>0.001</td>\n",
       "    </tr>\n",
       "    <tr>\n",
       "      <th>7</th>\n",
       "      <td>Polio</td>\n",
       "      <td>0.005</td>\n",
       "      <td>0.002</td>\n",
       "    </tr>\n",
       "    <tr>\n",
       "      <th>8</th>\n",
       "      <td>GDP</td>\n",
       "      <td>0.004</td>\n",
       "      <td>0.001</td>\n",
       "    </tr>\n",
       "    <tr>\n",
       "      <th>9</th>\n",
       "      <td>BMI</td>\n",
       "      <td>0.004</td>\n",
       "      <td>0.002</td>\n",
       "    </tr>\n",
       "    <tr>\n",
       "      <th>10</th>\n",
       "      <td>Country</td>\n",
       "      <td>0.002</td>\n",
       "      <td>0.001</td>\n",
       "    </tr>\n",
       "    <tr>\n",
       "      <th>11</th>\n",
       "      <td>infant deaths</td>\n",
       "      <td>0.002</td>\n",
       "      <td>0.001</td>\n",
       "    </tr>\n",
       "    <tr>\n",
       "      <th>12</th>\n",
       "      <td>Hepatitis B</td>\n",
       "      <td>0.001</td>\n",
       "      <td>0.001</td>\n",
       "    </tr>\n",
       "    <tr>\n",
       "      <th>13</th>\n",
       "      <td>Population</td>\n",
       "      <td>0.001</td>\n",
       "      <td>0.000</td>\n",
       "    </tr>\n",
       "    <tr>\n",
       "      <th>14</th>\n",
       "      <td>Alcohol</td>\n",
       "      <td>0.000</td>\n",
       "      <td>0.000</td>\n",
       "    </tr>\n",
       "    <tr>\n",
       "      <th>15</th>\n",
       "      <td>Status</td>\n",
       "      <td>0.000</td>\n",
       "      <td>0.000</td>\n",
       "    </tr>\n",
       "    <tr>\n",
       "      <th>16</th>\n",
       "      <td>Measles</td>\n",
       "      <td>0.000</td>\n",
       "      <td>0.001</td>\n",
       "    </tr>\n",
       "    <tr>\n",
       "      <th>17</th>\n",
       "      <td>Total expenditure</td>\n",
       "      <td>-0.000</td>\n",
       "      <td>0.000</td>\n",
       "    </tr>\n",
       "    <tr>\n",
       "      <th>18</th>\n",
       "      <td>Diphtheria</td>\n",
       "      <td>-0.000</td>\n",
       "      <td>0.001</td>\n",
       "    </tr>\n",
       "    <tr>\n",
       "      <th>19</th>\n",
       "      <td>percentage expenditure</td>\n",
       "      <td>-0.000</td>\n",
       "      <td>0.000</td>\n",
       "    </tr>\n",
       "  </tbody>\n",
       "</table>\n",
       "</div>"
      ],
      "text/plain": [
       "                               Cols   Mean    Std\n",
       "0   Income composition of resources  0.266  0.034\n",
       "1                   Adult Mortality  0.234  0.027\n",
       "2                          HIV/AIDS  0.212  0.037\n",
       "3                thinness 5-9 years  0.016  0.004\n",
       "4                         Schooling  0.011  0.003\n",
       "5                under-five deaths   0.008  0.002\n",
       "6              thinness  1-19 years  0.005  0.001\n",
       "7                             Polio  0.005  0.002\n",
       "8                               GDP  0.004  0.001\n",
       "9                              BMI   0.004  0.002\n",
       "10                          Country  0.002  0.001\n",
       "11                    infant deaths  0.002  0.001\n",
       "12                      Hepatitis B  0.001  0.001\n",
       "13                       Population  0.001  0.000\n",
       "14                          Alcohol  0.000  0.000\n",
       "15                           Status  0.000  0.000\n",
       "16                         Measles   0.000  0.001\n",
       "17                Total expenditure -0.000  0.000\n",
       "18                      Diphtheria  -0.000  0.001\n",
       "19           percentage expenditure -0.000  0.000"
      ]
     },
     "execution_count": 39,
     "metadata": {},
     "output_type": "execute_result"
    }
   ],
   "source": [
    "feature_importance"
   ]
  },
  {
   "cell_type": "markdown",
   "metadata": {
    "cell_id": "00049-5704bd55-e503-4a95-95af-88c4fb80505b",
    "deepnote_cell_type": "markdown"
   },
   "source": [
    "## 6. Conclusion"
   ]
  },
  {
   "cell_type": "markdown",
   "metadata": {
    "cell_id": "00050-d5130298-e95e-42ba-8ec8-c94bce4e8780",
    "deepnote_cell_type": "markdown"
   },
   "source": [
    "After we fit all the models, we find out that `RandomForestRegressor` with parameters `max_depth=40`, `min_samples_split=5`, `n_estimators=200` works best among the search space. The root mean squared error is `1.88` and the R2 score is `0.945`. It means that `94.5%` of the life expectancy values in 2015  could be explained by the model. Then we analyse the feature importancy of each predictors and we surprisingly to see the `income, adult mortality and HIV/AIDS` are three top most influential factors to the life expectancy. Also, children healthcare plays an important role as influencing factors to global life expectancy <br>\n",
    "\n",
    "For the next step, I will look more into how to polish the model so that there is less overfitting because for now the R2 scored is really high and it will perform a bad gernality to other dataset. Also, I will add some time series analysis since there is a time series in the dataset. It will also improve the performance of the final model."
   ]
  },
  {
   "cell_type": "markdown",
   "metadata": {
    "cell_id": "00050-bb9dc044-b11d-4b44-b12b-2595ee44bf32",
    "deepnote_cell_type": "markdown",
    "tags": []
   },
   "source": []
  },
  {
   "cell_type": "markdown",
   "metadata": {
    "created_in_deepnote_cell": true,
    "deepnote_cell_type": "markdown",
    "tags": []
   },
   "source": [
    "<a style='text-decoration:none;line-height:16px;display:flex;color:#5B5B62;padding:10px;justify-content:end;' href='https://deepnote.com?utm_source=created-in-deepnote-cell&projectId=07719c8b-d1bf-4a88-9582-e7e42cd58ee8' target=\"_blank\">\n",
    "<img style='display:inline;max-height:16px;margin:0px;margin-right:7.5px;' src='data:image/svg+xml;base64,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' > </img>\n",
    "Created in <span style='font-weight:600;margin-left:4px;'>Deepnote</span></a>"
   ]
  }
 ],
 "metadata": {
  "deepnote": {},
  "deepnote_execution_queue": [],
  "deepnote_notebook_id": "d7ddd920-d3e8-41aa-b3bd-6ccdbdf80a2d",
  "kernelspec": {
   "display_name": "Python 3",
   "language": "python",
   "name": "python3"
  },
  "language_info": {
   "codemirror_mode": {
    "name": "ipython",
    "version": 3
   },
   "file_extension": ".py",
   "mimetype": "text/x-python",
   "name": "python",
   "nbconvert_exporter": "python",
   "pygments_lexer": "ipython3",
   "version": "3.7.4"
  }
 },
 "nbformat": 4,
 "nbformat_minor": 4
}
