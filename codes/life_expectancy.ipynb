{
  "cells": [
    {
      "cell_type": "markdown",
      "source": "# Life Expectancy Regressor\n__Shuyan(Dawn) Li__<br>\nDeepnote link: https://deepnote.com/project/07719c8b-d1bf-4a88-9582-e7e42cd58ee8#%2Flife_expectancy.ipynb",
      "metadata": {
        "cell_id": "00000-8a7eedbc-0741-4db9-b788-668cd639fc9b",
        "deepnote_cell_type": "markdown"
      }
    },
    {
      "cell_type": "code",
      "metadata": {
        "cell_id": "00001-e3e1b162-255c-4d47-99fa-1969ccc9bbaa",
        "deepnote_to_be_reexecuted": false,
        "source_hash": "849eeaa3",
        "execution_millis": 1290,
        "execution_start": 1615519405879,
        "deepnote_cell_type": "code"
      },
      "source": "import numpy as np\nimport pandas as pd\nfrom   sklearn.pipeline        import Pipeline\nfrom   sklearn.model_selection import train_test_split\nfrom   sklearn.experimental    import enable_iterative_imputer\nfrom   sklearn.preprocessing   import *\nfrom   sklearn.impute          import *\nfrom   sklearn.compose         import *\nfrom sklearn.model_selection import RandomizedSearchCV\nfrom   sklearn.linear_model    import LinearRegression, Lasso, Ridge\nfrom sklearn.tree import DecisionTreeRegressor\nfrom sklearn.ensemble import RandomForestRegressor\nfrom sklearn.base            import BaseEstimator\nfrom   sklearn.metrics         import r2_score, mean_squared_error\nfrom sklearn.inspection import permutation_importance",
      "outputs": [],
      "execution_count": null
    },
    {
      "cell_type": "code",
      "metadata": {
        "cell_id": "00002-b61567ca-dad8-44d6-b3c1-354277e358ff",
        "deepnote_to_be_reexecuted": false,
        "source_hash": "859a3ce9",
        "execution_millis": 16,
        "execution_start": 1615519407173,
        "deepnote_cell_type": "code"
      },
      "source": "life = pd.read_csv('Life Expectancy Data.csv')",
      "outputs": [],
      "execution_count": null
    },
    {
      "cell_type": "markdown",
      "source": "## Introduction\nThis is a machine learning project aimed to train a model to predict life expectancy using machine learning methods. Here we use the dataset from https://www.kaggle.com/kumarajarshi/life-expectancy-who. This dataset includes 2938 observations and 21 raw features.<br>\nAlthough various studies undertaken in this topic, we are still insterested in what factors are influencing our life expectancy. We care about those influenciers for this will affect government policies in healthcare expenditure etc. This dataset has many interested varibles including income facors, immunization facors, mortality factors, economic factors, social factors and other health related factors. ",
      "metadata": {
        "cell_id": "00003-7af697a7-b9e2-4043-b26f-7160dd17ba1e",
        "deepnote_cell_type": "markdown"
      }
    },
    {
      "cell_type": "markdown",
      "source": "## 1. Load data \nIn the step, I am going to load the data and treat life expectancy as the target variable and the rest except the Year variable as predictors. We have 2 categorical variables Countries and Status and the rest are numeric variables.",
      "metadata": {
        "cell_id": "00004-deddd2ef-50a5-4aea-99eb-873197fbf83e",
        "deepnote_cell_type": "markdown"
      }
    },
    {
      "cell_type": "code",
      "metadata": {
        "cell_id": "00005-622e2589-93b7-4ad8-835c-830c738d59c3",
        "deepnote_to_be_reexecuted": false,
        "source_hash": "8fc675c0",
        "execution_millis": 48,
        "execution_start": 1615519407234,
        "deepnote_cell_type": "code"
      },
      "source": "life.head(3)",
      "outputs": [
        {
          "output_type": "execute_result",
          "execution_count": 3,
          "data": {
            "application/vnd.deepnote.dataframe.v2+json": {
              "row_count": 3,
              "column_count": 22,
              "columns": [
                {
                  "name": "Country",
                  "dtype": "object",
                  "stats": {
                    "unique_count": 1,
                    "nan_count": 0,
                    "categories": [
                      {
                        "name": "Afghanistan",
                        "count": 3
                      }
                    ]
                  }
                },
                {
                  "name": "Year",
                  "dtype": "int64",
                  "stats": {
                    "unique_count": 3,
                    "nan_count": 0,
                    "min": 2013,
                    "max": 2015,
                    "histogram": [
                      {
                        "bin_start": 2013,
                        "bin_end": 2013.2,
                        "count": 1
                      },
                      {
                        "bin_start": 2013.2,
                        "bin_end": 2013.4,
                        "count": 0
                      },
                      {
                        "bin_start": 2013.4,
                        "bin_end": 2013.6,
                        "count": 0
                      },
                      {
                        "bin_start": 2013.6,
                        "bin_end": 2013.8,
                        "count": 0
                      },
                      {
                        "bin_start": 2013.8,
                        "bin_end": 2014,
                        "count": 0
                      },
                      {
                        "bin_start": 2014,
                        "bin_end": 2014.2,
                        "count": 1
                      },
                      {
                        "bin_start": 2014.2,
                        "bin_end": 2014.4,
                        "count": 0
                      },
                      {
                        "bin_start": 2014.4,
                        "bin_end": 2014.6,
                        "count": 0
                      },
                      {
                        "bin_start": 2014.6,
                        "bin_end": 2014.8,
                        "count": 0
                      },
                      {
                        "bin_start": 2014.8,
                        "bin_end": 2015,
                        "count": 1
                      }
                    ]
                  }
                },
                {
                  "name": "Status",
                  "dtype": "object",
                  "stats": {
                    "unique_count": 1,
                    "nan_count": 0,
                    "categories": [
                      {
                        "name": "Developing",
                        "count": 3
                      }
                    ]
                  }
                },
                {
                  "name": "Life expectancy ",
                  "dtype": "float64",
                  "stats": {
                    "unique_count": 2,
                    "nan_count": 0,
                    "min": 59.9,
                    "max": 65,
                    "histogram": [
                      {
                        "bin_start": 59.9,
                        "bin_end": 60.41,
                        "count": 2
                      },
                      {
                        "bin_start": 60.41,
                        "bin_end": 60.92,
                        "count": 0
                      },
                      {
                        "bin_start": 60.92,
                        "bin_end": 61.43,
                        "count": 0
                      },
                      {
                        "bin_start": 61.43,
                        "bin_end": 61.94,
                        "count": 0
                      },
                      {
                        "bin_start": 61.94,
                        "bin_end": 62.45,
                        "count": 0
                      },
                      {
                        "bin_start": 62.45,
                        "bin_end": 62.96,
                        "count": 0
                      },
                      {
                        "bin_start": 62.96,
                        "bin_end": 63.47,
                        "count": 0
                      },
                      {
                        "bin_start": 63.47,
                        "bin_end": 63.98,
                        "count": 0
                      },
                      {
                        "bin_start": 63.98,
                        "bin_end": 64.49,
                        "count": 0
                      },
                      {
                        "bin_start": 64.49,
                        "bin_end": 65,
                        "count": 1
                      }
                    ]
                  }
                },
                {
                  "name": "Adult Mortality",
                  "dtype": "float64",
                  "stats": {
                    "unique_count": 3,
                    "nan_count": 0,
                    "min": 263,
                    "max": 271,
                    "histogram": [
                      {
                        "bin_start": 263,
                        "bin_end": 263.8,
                        "count": 1
                      },
                      {
                        "bin_start": 263.8,
                        "bin_end": 264.6,
                        "count": 0
                      },
                      {
                        "bin_start": 264.6,
                        "bin_end": 265.4,
                        "count": 0
                      },
                      {
                        "bin_start": 265.4,
                        "bin_end": 266.2,
                        "count": 0
                      },
                      {
                        "bin_start": 266.2,
                        "bin_end": 267,
                        "count": 0
                      },
                      {
                        "bin_start": 267,
                        "bin_end": 267.8,
                        "count": 0
                      },
                      {
                        "bin_start": 267.8,
                        "bin_end": 268.6,
                        "count": 1
                      },
                      {
                        "bin_start": 268.6,
                        "bin_end": 269.4,
                        "count": 0
                      },
                      {
                        "bin_start": 269.4,
                        "bin_end": 270.2,
                        "count": 0
                      },
                      {
                        "bin_start": 270.2,
                        "bin_end": 271,
                        "count": 1
                      }
                    ]
                  }
                },
                {
                  "name": "infant deaths",
                  "dtype": "int64",
                  "stats": {
                    "unique_count": 3,
                    "nan_count": 0,
                    "min": 62,
                    "max": 66,
                    "histogram": [
                      {
                        "bin_start": 62,
                        "bin_end": 62.4,
                        "count": 1
                      },
                      {
                        "bin_start": 62.4,
                        "bin_end": 62.8,
                        "count": 0
                      },
                      {
                        "bin_start": 62.8,
                        "bin_end": 63.2,
                        "count": 0
                      },
                      {
                        "bin_start": 63.2,
                        "bin_end": 63.6,
                        "count": 0
                      },
                      {
                        "bin_start": 63.6,
                        "bin_end": 64,
                        "count": 0
                      },
                      {
                        "bin_start": 64,
                        "bin_end": 64.4,
                        "count": 1
                      },
                      {
                        "bin_start": 64.4,
                        "bin_end": 64.8,
                        "count": 0
                      },
                      {
                        "bin_start": 64.8,
                        "bin_end": 65.2,
                        "count": 0
                      },
                      {
                        "bin_start": 65.2,
                        "bin_end": 65.6,
                        "count": 0
                      },
                      {
                        "bin_start": 65.6,
                        "bin_end": 66,
                        "count": 1
                      }
                    ]
                  }
                },
                {
                  "name": "Alcohol",
                  "dtype": "float64",
                  "stats": {
                    "unique_count": 1,
                    "nan_count": 0,
                    "min": 0.01,
                    "max": 0.01,
                    "histogram": [
                      {
                        "bin_start": -0.49,
                        "bin_end": -0.39,
                        "count": 0
                      },
                      {
                        "bin_start": -0.39,
                        "bin_end": -0.29,
                        "count": 0
                      },
                      {
                        "bin_start": -0.29,
                        "bin_end": -0.18999999999999995,
                        "count": 0
                      },
                      {
                        "bin_start": -0.18999999999999995,
                        "bin_end": -0.08999999999999997,
                        "count": 0
                      },
                      {
                        "bin_start": -0.08999999999999997,
                        "bin_end": 0.010000000000000009,
                        "count": 3
                      },
                      {
                        "bin_start": 0.010000000000000009,
                        "bin_end": 0.1100000000000001,
                        "count": 0
                      },
                      {
                        "bin_start": 0.1100000000000001,
                        "bin_end": 0.21000000000000008,
                        "count": 0
                      },
                      {
                        "bin_start": 0.21000000000000008,
                        "bin_end": 0.31000000000000005,
                        "count": 0
                      },
                      {
                        "bin_start": 0.31000000000000005,
                        "bin_end": 0.41000000000000003,
                        "count": 0
                      },
                      {
                        "bin_start": 0.41000000000000003,
                        "bin_end": 0.51,
                        "count": 0
                      }
                    ]
                  }
                },
                {
                  "name": "percentage expenditure",
                  "dtype": "float64",
                  "stats": {
                    "unique_count": 3,
                    "nan_count": 0,
                    "min": 71.27962362,
                    "max": 73.52358168,
                    "histogram": [
                      {
                        "bin_start": 71.27962362,
                        "bin_end": 71.504019426,
                        "count": 1
                      },
                      {
                        "bin_start": 71.504019426,
                        "bin_end": 71.728415232,
                        "count": 0
                      },
                      {
                        "bin_start": 71.728415232,
                        "bin_end": 71.952811038,
                        "count": 0
                      },
                      {
                        "bin_start": 71.952811038,
                        "bin_end": 72.177206844,
                        "count": 0
                      },
                      {
                        "bin_start": 72.177206844,
                        "bin_end": 72.40160265,
                        "count": 0
                      },
                      {
                        "bin_start": 72.40160265,
                        "bin_end": 72.625998456,
                        "count": 0
                      },
                      {
                        "bin_start": 72.625998456,
                        "bin_end": 72.85039426200001,
                        "count": 0
                      },
                      {
                        "bin_start": 72.85039426200001,
                        "bin_end": 73.074790068,
                        "count": 0
                      },
                      {
                        "bin_start": 73.074790068,
                        "bin_end": 73.299185874,
                        "count": 1
                      },
                      {
                        "bin_start": 73.299185874,
                        "bin_end": 73.52358168,
                        "count": 1
                      }
                    ]
                  }
                },
                {
                  "name": "Hepatitis B",
                  "dtype": "float64",
                  "stats": {
                    "unique_count": 3,
                    "nan_count": 0,
                    "min": 62,
                    "max": 65,
                    "histogram": [
                      {
                        "bin_start": 62,
                        "bin_end": 62.3,
                        "count": 1
                      },
                      {
                        "bin_start": 62.3,
                        "bin_end": 62.6,
                        "count": 0
                      },
                      {
                        "bin_start": 62.6,
                        "bin_end": 62.9,
                        "count": 0
                      },
                      {
                        "bin_start": 62.9,
                        "bin_end": 63.2,
                        "count": 0
                      },
                      {
                        "bin_start": 63.2,
                        "bin_end": 63.5,
                        "count": 0
                      },
                      {
                        "bin_start": 63.5,
                        "bin_end": 63.8,
                        "count": 0
                      },
                      {
                        "bin_start": 63.8,
                        "bin_end": 64.1,
                        "count": 1
                      },
                      {
                        "bin_start": 64.1,
                        "bin_end": 64.4,
                        "count": 0
                      },
                      {
                        "bin_start": 64.4,
                        "bin_end": 64.7,
                        "count": 0
                      },
                      {
                        "bin_start": 64.7,
                        "bin_end": 65,
                        "count": 1
                      }
                    ]
                  }
                },
                {
                  "name": "Measles ",
                  "dtype": "int64",
                  "stats": {
                    "unique_count": 3,
                    "nan_count": 0,
                    "min": 430,
                    "max": 1154,
                    "histogram": [
                      {
                        "bin_start": 430,
                        "bin_end": 502.4,
                        "count": 2
                      },
                      {
                        "bin_start": 502.4,
                        "bin_end": 574.8,
                        "count": 0
                      },
                      {
                        "bin_start": 574.8,
                        "bin_end": 647.2,
                        "count": 0
                      },
                      {
                        "bin_start": 647.2,
                        "bin_end": 719.6,
                        "count": 0
                      },
                      {
                        "bin_start": 719.6,
                        "bin_end": 792,
                        "count": 0
                      },
                      {
                        "bin_start": 792,
                        "bin_end": 864.4000000000001,
                        "count": 0
                      },
                      {
                        "bin_start": 864.4000000000001,
                        "bin_end": 936.8000000000001,
                        "count": 0
                      },
                      {
                        "bin_start": 936.8000000000001,
                        "bin_end": 1009.2,
                        "count": 0
                      },
                      {
                        "bin_start": 1009.2,
                        "bin_end": 1081.6,
                        "count": 0
                      },
                      {
                        "bin_start": 1081.6,
                        "bin_end": 1154,
                        "count": 1
                      }
                    ]
                  }
                },
                {
                  "name": " BMI ",
                  "dtype": "float64",
                  "stats": {
                    "unique_count": 3,
                    "nan_count": 0,
                    "min": 18.1,
                    "max": 19.1,
                    "histogram": [
                      {
                        "bin_start": 18.1,
                        "bin_end": 18.200000000000003,
                        "count": 1
                      },
                      {
                        "bin_start": 18.200000000000003,
                        "bin_end": 18.3,
                        "count": 0
                      },
                      {
                        "bin_start": 18.3,
                        "bin_end": 18.400000000000002,
                        "count": 0
                      },
                      {
                        "bin_start": 18.400000000000002,
                        "bin_end": 18.5,
                        "count": 0
                      },
                      {
                        "bin_start": 18.5,
                        "bin_end": 18.6,
                        "count": 0
                      },
                      {
                        "bin_start": 18.6,
                        "bin_end": 18.700000000000003,
                        "count": 1
                      },
                      {
                        "bin_start": 18.700000000000003,
                        "bin_end": 18.8,
                        "count": 0
                      },
                      {
                        "bin_start": 18.8,
                        "bin_end": 18.900000000000002,
                        "count": 0
                      },
                      {
                        "bin_start": 18.900000000000002,
                        "bin_end": 19,
                        "count": 0
                      },
                      {
                        "bin_start": 19,
                        "bin_end": 19.1,
                        "count": 1
                      }
                    ]
                  }
                },
                {
                  "name": "under-five deaths ",
                  "dtype": "int64",
                  "stats": {
                    "unique_count": 3,
                    "nan_count": 0,
                    "min": 83,
                    "max": 89,
                    "histogram": [
                      {
                        "bin_start": 83,
                        "bin_end": 83.6,
                        "count": 1
                      },
                      {
                        "bin_start": 83.6,
                        "bin_end": 84.2,
                        "count": 0
                      },
                      {
                        "bin_start": 84.2,
                        "bin_end": 84.8,
                        "count": 0
                      },
                      {
                        "bin_start": 84.8,
                        "bin_end": 85.4,
                        "count": 0
                      },
                      {
                        "bin_start": 85.4,
                        "bin_end": 86,
                        "count": 0
                      },
                      {
                        "bin_start": 86,
                        "bin_end": 86.6,
                        "count": 1
                      },
                      {
                        "bin_start": 86.6,
                        "bin_end": 87.2,
                        "count": 0
                      },
                      {
                        "bin_start": 87.2,
                        "bin_end": 87.8,
                        "count": 0
                      },
                      {
                        "bin_start": 87.8,
                        "bin_end": 88.4,
                        "count": 0
                      },
                      {
                        "bin_start": 88.4,
                        "bin_end": 89,
                        "count": 1
                      }
                    ]
                  }
                },
                {
                  "name": "Polio",
                  "dtype": "float64",
                  "stats": {
                    "unique_count": 3,
                    "nan_count": 0,
                    "min": 6,
                    "max": 62,
                    "histogram": [
                      {
                        "bin_start": 6,
                        "bin_end": 11.6,
                        "count": 1
                      },
                      {
                        "bin_start": 11.6,
                        "bin_end": 17.2,
                        "count": 0
                      },
                      {
                        "bin_start": 17.2,
                        "bin_end": 22.799999999999997,
                        "count": 0
                      },
                      {
                        "bin_start": 22.799999999999997,
                        "bin_end": 28.4,
                        "count": 0
                      },
                      {
                        "bin_start": 28.4,
                        "bin_end": 34,
                        "count": 0
                      },
                      {
                        "bin_start": 34,
                        "bin_end": 39.599999999999994,
                        "count": 0
                      },
                      {
                        "bin_start": 39.599999999999994,
                        "bin_end": 45.199999999999996,
                        "count": 0
                      },
                      {
                        "bin_start": 45.199999999999996,
                        "bin_end": 50.8,
                        "count": 0
                      },
                      {
                        "bin_start": 50.8,
                        "bin_end": 56.4,
                        "count": 0
                      },
                      {
                        "bin_start": 56.4,
                        "bin_end": 62,
                        "count": 2
                      }
                    ]
                  }
                },
                {
                  "name": "Total expenditure",
                  "dtype": "float64",
                  "stats": {
                    "unique_count": 3,
                    "nan_count": 0,
                    "min": 8.13,
                    "max": 8.18,
                    "histogram": [
                      {
                        "bin_start": 8.13,
                        "bin_end": 8.135000000000002,
                        "count": 1
                      },
                      {
                        "bin_start": 8.135000000000002,
                        "bin_end": 8.14,
                        "count": 0
                      },
                      {
                        "bin_start": 8.14,
                        "bin_end": 8.145,
                        "count": 0
                      },
                      {
                        "bin_start": 8.145,
                        "bin_end": 8.15,
                        "count": 0
                      },
                      {
                        "bin_start": 8.15,
                        "bin_end": 8.155000000000001,
                        "count": 0
                      },
                      {
                        "bin_start": 8.155000000000001,
                        "bin_end": 8.16,
                        "count": 0
                      },
                      {
                        "bin_start": 8.16,
                        "bin_end": 8.165,
                        "count": 1
                      },
                      {
                        "bin_start": 8.165,
                        "bin_end": 8.17,
                        "count": 0
                      },
                      {
                        "bin_start": 8.17,
                        "bin_end": 8.175,
                        "count": 0
                      },
                      {
                        "bin_start": 8.175,
                        "bin_end": 8.18,
                        "count": 1
                      }
                    ]
                  }
                },
                {
                  "name": "Diphtheria ",
                  "dtype": "float64",
                  "stats": {
                    "unique_count": 3,
                    "nan_count": 0,
                    "min": 62,
                    "max": 65,
                    "histogram": [
                      {
                        "bin_start": 62,
                        "bin_end": 62.3,
                        "count": 1
                      },
                      {
                        "bin_start": 62.3,
                        "bin_end": 62.6,
                        "count": 0
                      },
                      {
                        "bin_start": 62.6,
                        "bin_end": 62.9,
                        "count": 0
                      },
                      {
                        "bin_start": 62.9,
                        "bin_end": 63.2,
                        "count": 0
                      },
                      {
                        "bin_start": 63.2,
                        "bin_end": 63.5,
                        "count": 0
                      },
                      {
                        "bin_start": 63.5,
                        "bin_end": 63.8,
                        "count": 0
                      },
                      {
                        "bin_start": 63.8,
                        "bin_end": 64.1,
                        "count": 1
                      },
                      {
                        "bin_start": 64.1,
                        "bin_end": 64.4,
                        "count": 0
                      },
                      {
                        "bin_start": 64.4,
                        "bin_end": 64.7,
                        "count": 0
                      },
                      {
                        "bin_start": 64.7,
                        "bin_end": 65,
                        "count": 1
                      }
                    ]
                  }
                },
                {
                  "name": " HIV/AIDS",
                  "dtype": "float64",
                  "stats": {
                    "unique_count": 1,
                    "nan_count": 0,
                    "min": 0.1,
                    "max": 0.1,
                    "histogram": [
                      {
                        "bin_start": -0.4,
                        "bin_end": -0.30000000000000004,
                        "count": 0
                      },
                      {
                        "bin_start": -0.30000000000000004,
                        "bin_end": -0.2,
                        "count": 0
                      },
                      {
                        "bin_start": -0.2,
                        "bin_end": -0.09999999999999998,
                        "count": 0
                      },
                      {
                        "bin_start": -0.09999999999999998,
                        "bin_end": 0,
                        "count": 0
                      },
                      {
                        "bin_start": 0,
                        "bin_end": 0.09999999999999998,
                        "count": 0
                      },
                      {
                        "bin_start": 0.09999999999999998,
                        "bin_end": 0.20000000000000007,
                        "count": 3
                      },
                      {
                        "bin_start": 0.20000000000000007,
                        "bin_end": 0.30000000000000004,
                        "count": 0
                      },
                      {
                        "bin_start": 0.30000000000000004,
                        "bin_end": 0.4,
                        "count": 0
                      },
                      {
                        "bin_start": 0.4,
                        "bin_end": 0.5,
                        "count": 0
                      },
                      {
                        "bin_start": 0.5,
                        "bin_end": 0.6,
                        "count": 0
                      }
                    ]
                  }
                },
                {
                  "name": "GDP",
                  "dtype": "float64",
                  "stats": {
                    "unique_count": 3,
                    "nan_count": 0,
                    "min": 584.25921,
                    "max": 631.744976,
                    "histogram": [
                      {
                        "bin_start": 584.25921,
                        "bin_end": 589.0077866,
                        "count": 1
                      },
                      {
                        "bin_start": 589.0077866,
                        "bin_end": 593.7563632,
                        "count": 0
                      },
                      {
                        "bin_start": 593.7563632,
                        "bin_end": 598.5049398,
                        "count": 0
                      },
                      {
                        "bin_start": 598.5049398,
                        "bin_end": 603.2535164,
                        "count": 0
                      },
                      {
                        "bin_start": 603.2535164,
                        "bin_end": 608.0020930000001,
                        "count": 0
                      },
                      {
                        "bin_start": 608.0020930000001,
                        "bin_end": 612.7506696,
                        "count": 1
                      },
                      {
                        "bin_start": 612.7506696,
                        "bin_end": 617.4992462,
                        "count": 0
                      },
                      {
                        "bin_start": 617.4992462,
                        "bin_end": 622.2478228,
                        "count": 0
                      },
                      {
                        "bin_start": 622.2478228,
                        "bin_end": 626.9963994,
                        "count": 0
                      },
                      {
                        "bin_start": 626.9963994,
                        "bin_end": 631.744976,
                        "count": 1
                      }
                    ]
                  }
                },
                {
                  "name": "Population",
                  "dtype": "float64",
                  "stats": {
                    "unique_count": 3,
                    "nan_count": 0,
                    "min": 327582,
                    "max": 33736494,
                    "histogram": [
                      {
                        "bin_start": 327582,
                        "bin_end": 3668473.2,
                        "count": 1
                      },
                      {
                        "bin_start": 3668473.2,
                        "bin_end": 7009364.4,
                        "count": 0
                      },
                      {
                        "bin_start": 7009364.4,
                        "bin_end": 10350255.600000001,
                        "count": 0
                      },
                      {
                        "bin_start": 10350255.600000001,
                        "bin_end": 13691146.8,
                        "count": 0
                      },
                      {
                        "bin_start": 13691146.8,
                        "bin_end": 17032038,
                        "count": 0
                      },
                      {
                        "bin_start": 17032038,
                        "bin_end": 20372929.200000003,
                        "count": 0
                      },
                      {
                        "bin_start": 20372929.200000003,
                        "bin_end": 23713820.400000002,
                        "count": 0
                      },
                      {
                        "bin_start": 23713820.400000002,
                        "bin_end": 27054711.6,
                        "count": 0
                      },
                      {
                        "bin_start": 27054711.6,
                        "bin_end": 30395602.8,
                        "count": 0
                      },
                      {
                        "bin_start": 30395602.8,
                        "bin_end": 33736494,
                        "count": 2
                      }
                    ]
                  }
                },
                {
                  "name": " thinness  1-19 years",
                  "dtype": "float64",
                  "stats": {
                    "unique_count": 3,
                    "nan_count": 0,
                    "min": 17.2,
                    "max": 17.7,
                    "histogram": [
                      {
                        "bin_start": 17.2,
                        "bin_end": 17.25,
                        "count": 1
                      },
                      {
                        "bin_start": 17.25,
                        "bin_end": 17.3,
                        "count": 0
                      },
                      {
                        "bin_start": 17.3,
                        "bin_end": 17.349999999999998,
                        "count": 0
                      },
                      {
                        "bin_start": 17.349999999999998,
                        "bin_end": 17.4,
                        "count": 0
                      },
                      {
                        "bin_start": 17.4,
                        "bin_end": 17.45,
                        "count": 0
                      },
                      {
                        "bin_start": 17.45,
                        "bin_end": 17.5,
                        "count": 0
                      },
                      {
                        "bin_start": 17.5,
                        "bin_end": 17.55,
                        "count": 1
                      },
                      {
                        "bin_start": 17.55,
                        "bin_end": 17.599999999999998,
                        "count": 0
                      },
                      {
                        "bin_start": 17.599999999999998,
                        "bin_end": 17.65,
                        "count": 0
                      },
                      {
                        "bin_start": 17.65,
                        "bin_end": 17.7,
                        "count": 1
                      }
                    ]
                  }
                },
                {
                  "name": " thinness 5-9 years",
                  "dtype": "float64",
                  "stats": {
                    "unique_count": 3,
                    "nan_count": 0,
                    "min": 17.3,
                    "max": 17.7,
                    "histogram": [
                      {
                        "bin_start": 17.3,
                        "bin_end": 17.34,
                        "count": 1
                      },
                      {
                        "bin_start": 17.34,
                        "bin_end": 17.38,
                        "count": 0
                      },
                      {
                        "bin_start": 17.38,
                        "bin_end": 17.42,
                        "count": 0
                      },
                      {
                        "bin_start": 17.42,
                        "bin_end": 17.46,
                        "count": 0
                      },
                      {
                        "bin_start": 17.46,
                        "bin_end": 17.5,
                        "count": 0
                      },
                      {
                        "bin_start": 17.5,
                        "bin_end": 17.54,
                        "count": 1
                      },
                      {
                        "bin_start": 17.54,
                        "bin_end": 17.58,
                        "count": 0
                      },
                      {
                        "bin_start": 17.58,
                        "bin_end": 17.62,
                        "count": 0
                      },
                      {
                        "bin_start": 17.62,
                        "bin_end": 17.66,
                        "count": 0
                      },
                      {
                        "bin_start": 17.66,
                        "bin_end": 17.7,
                        "count": 1
                      }
                    ]
                  }
                },
                {
                  "name": "Income composition of resources",
                  "dtype": "float64",
                  "stats": {
                    "unique_count": 3,
                    "nan_count": 0,
                    "min": 0.47,
                    "max": 0.479,
                    "histogram": [
                      {
                        "bin_start": 0.47,
                        "bin_end": 0.4709,
                        "count": 1
                      },
                      {
                        "bin_start": 0.4709,
                        "bin_end": 0.4718,
                        "count": 0
                      },
                      {
                        "bin_start": 0.4718,
                        "bin_end": 0.47269999999999995,
                        "count": 0
                      },
                      {
                        "bin_start": 0.47269999999999995,
                        "bin_end": 0.47359999999999997,
                        "count": 0
                      },
                      {
                        "bin_start": 0.47359999999999997,
                        "bin_end": 0.4745,
                        "count": 0
                      },
                      {
                        "bin_start": 0.4745,
                        "bin_end": 0.4754,
                        "count": 0
                      },
                      {
                        "bin_start": 0.4754,
                        "bin_end": 0.4763,
                        "count": 1
                      },
                      {
                        "bin_start": 0.4763,
                        "bin_end": 0.47719999999999996,
                        "count": 0
                      },
                      {
                        "bin_start": 0.47719999999999996,
                        "bin_end": 0.47809999999999997,
                        "count": 0
                      },
                      {
                        "bin_start": 0.47809999999999997,
                        "bin_end": 0.479,
                        "count": 1
                      }
                    ]
                  }
                },
                {
                  "name": "Schooling",
                  "dtype": "float64",
                  "stats": {
                    "unique_count": 3,
                    "nan_count": 0,
                    "min": 9.9,
                    "max": 10.1,
                    "histogram": [
                      {
                        "bin_start": 9.9,
                        "bin_end": 9.92,
                        "count": 1
                      },
                      {
                        "bin_start": 9.92,
                        "bin_end": 9.94,
                        "count": 0
                      },
                      {
                        "bin_start": 9.94,
                        "bin_end": 9.96,
                        "count": 0
                      },
                      {
                        "bin_start": 9.96,
                        "bin_end": 9.98,
                        "count": 0
                      },
                      {
                        "bin_start": 9.98,
                        "bin_end": 10,
                        "count": 0
                      },
                      {
                        "bin_start": 10,
                        "bin_end": 10.02,
                        "count": 1
                      },
                      {
                        "bin_start": 10.02,
                        "bin_end": 10.04,
                        "count": 0
                      },
                      {
                        "bin_start": 10.04,
                        "bin_end": 10.06,
                        "count": 0
                      },
                      {
                        "bin_start": 10.06,
                        "bin_end": 10.08,
                        "count": 0
                      },
                      {
                        "bin_start": 10.08,
                        "bin_end": 10.1,
                        "count": 1
                      }
                    ]
                  }
                },
                {
                  "name": "_deepnote_index_column",
                  "dtype": "int64"
                }
              ],
              "rows_top": [
                {
                  "Country": "Afghanistan",
                  "Year": 2015,
                  "Status": "Developing",
                  "Life expectancy ": 65,
                  "Adult Mortality": 263,
                  "infant deaths": 62,
                  "Alcohol": 0.01,
                  "percentage expenditure": 71.27962362,
                  "Hepatitis B": 65,
                  "Measles ": 1154,
                  " BMI ": 19.1,
                  "under-five deaths ": 83,
                  "Polio": 6,
                  "Total expenditure": 8.16,
                  "Diphtheria ": 65,
                  " HIV/AIDS": 0.1,
                  "GDP": 584.25921,
                  "Population": 33736494,
                  " thinness  1-19 years": 17.2,
                  " thinness 5-9 years": 17.3,
                  "Income composition of resources": 0.479,
                  "Schooling": 10.1,
                  "_deepnote_index_column": 0
                },
                {
                  "Country": "Afghanistan",
                  "Year": 2014,
                  "Status": "Developing",
                  "Life expectancy ": 59.9,
                  "Adult Mortality": 271,
                  "infant deaths": 64,
                  "Alcohol": 0.01,
                  "percentage expenditure": 73.52358168,
                  "Hepatitis B": 62,
                  "Measles ": 492,
                  " BMI ": 18.6,
                  "under-five deaths ": 86,
                  "Polio": 58,
                  "Total expenditure": 8.18,
                  "Diphtheria ": 62,
                  " HIV/AIDS": 0.1,
                  "GDP": 612.696514,
                  "Population": 327582,
                  " thinness  1-19 years": 17.5,
                  " thinness 5-9 years": 17.5,
                  "Income composition of resources": 0.476,
                  "Schooling": 10,
                  "_deepnote_index_column": 1
                },
                {
                  "Country": "Afghanistan",
                  "Year": 2013,
                  "Status": "Developing",
                  "Life expectancy ": 59.9,
                  "Adult Mortality": 268,
                  "infant deaths": 66,
                  "Alcohol": 0.01,
                  "percentage expenditure": 73.21924272,
                  "Hepatitis B": 64,
                  "Measles ": 430,
                  " BMI ": 18.1,
                  "under-five deaths ": 89,
                  "Polio": 62,
                  "Total expenditure": 8.13,
                  "Diphtheria ": 64,
                  " HIV/AIDS": 0.1,
                  "GDP": 631.744976,
                  "Population": 31731688,
                  " thinness  1-19 years": 17.7,
                  " thinness 5-9 years": 17.7,
                  "Income composition of resources": 0.47,
                  "Schooling": 9.9,
                  "_deepnote_index_column": 2
                }
              ],
              "rows_bottom": null
            },
            "text/plain": "       Country  Year      Status  Life expectancy   Adult Mortality  \\\n0  Afghanistan  2015  Developing              65.0            263.0   \n1  Afghanistan  2014  Developing              59.9            271.0   \n2  Afghanistan  2013  Developing              59.9            268.0   \n\n   infant deaths  Alcohol  percentage expenditure  Hepatitis B  Measles   ...  \\\n0             62     0.01               71.279624         65.0      1154  ...   \n1             64     0.01               73.523582         62.0       492  ...   \n2             66     0.01               73.219243         64.0       430  ...   \n\n   Polio  Total expenditure  Diphtheria    HIV/AIDS         GDP  Population  \\\n0    6.0               8.16         65.0        0.1  584.259210  33736494.0   \n1   58.0               8.18         62.0        0.1  612.696514    327582.0   \n2   62.0               8.13         64.0        0.1  631.744976  31731688.0   \n\n    thinness  1-19 years   thinness 5-9 years  \\\n0                   17.2                 17.3   \n1                   17.5                 17.5   \n2                   17.7                 17.7   \n\n   Income composition of resources  Schooling  \n0                            0.479       10.1  \n1                            0.476       10.0  \n2                            0.470        9.9  \n\n[3 rows x 22 columns]",
            "text/html": "<div>\n<style scoped>\n    .dataframe tbody tr th:only-of-type {\n        vertical-align: middle;\n    }\n\n    .dataframe tbody tr th {\n        vertical-align: top;\n    }\n\n    .dataframe thead th {\n        text-align: right;\n    }\n</style>\n<table border=\"1\" class=\"dataframe\">\n  <thead>\n    <tr style=\"text-align: right;\">\n      <th></th>\n      <th>Country</th>\n      <th>Year</th>\n      <th>Status</th>\n      <th>Life expectancy</th>\n      <th>Adult Mortality</th>\n      <th>infant deaths</th>\n      <th>Alcohol</th>\n      <th>percentage expenditure</th>\n      <th>Hepatitis B</th>\n      <th>Measles</th>\n      <th>...</th>\n      <th>Polio</th>\n      <th>Total expenditure</th>\n      <th>Diphtheria</th>\n      <th>HIV/AIDS</th>\n      <th>GDP</th>\n      <th>Population</th>\n      <th>thinness  1-19 years</th>\n      <th>thinness 5-9 years</th>\n      <th>Income composition of resources</th>\n      <th>Schooling</th>\n    </tr>\n  </thead>\n  <tbody>\n    <tr>\n      <th>0</th>\n      <td>Afghanistan</td>\n      <td>2015</td>\n      <td>Developing</td>\n      <td>65.0</td>\n      <td>263.0</td>\n      <td>62</td>\n      <td>0.01</td>\n      <td>71.279624</td>\n      <td>65.0</td>\n      <td>1154</td>\n      <td>...</td>\n      <td>6.0</td>\n      <td>8.16</td>\n      <td>65.0</td>\n      <td>0.1</td>\n      <td>584.259210</td>\n      <td>33736494.0</td>\n      <td>17.2</td>\n      <td>17.3</td>\n      <td>0.479</td>\n      <td>10.1</td>\n    </tr>\n    <tr>\n      <th>1</th>\n      <td>Afghanistan</td>\n      <td>2014</td>\n      <td>Developing</td>\n      <td>59.9</td>\n      <td>271.0</td>\n      <td>64</td>\n      <td>0.01</td>\n      <td>73.523582</td>\n      <td>62.0</td>\n      <td>492</td>\n      <td>...</td>\n      <td>58.0</td>\n      <td>8.18</td>\n      <td>62.0</td>\n      <td>0.1</td>\n      <td>612.696514</td>\n      <td>327582.0</td>\n      <td>17.5</td>\n      <td>17.5</td>\n      <td>0.476</td>\n      <td>10.0</td>\n    </tr>\n    <tr>\n      <th>2</th>\n      <td>Afghanistan</td>\n      <td>2013</td>\n      <td>Developing</td>\n      <td>59.9</td>\n      <td>268.0</td>\n      <td>66</td>\n      <td>0.01</td>\n      <td>73.219243</td>\n      <td>64.0</td>\n      <td>430</td>\n      <td>...</td>\n      <td>62.0</td>\n      <td>8.13</td>\n      <td>64.0</td>\n      <td>0.1</td>\n      <td>631.744976</td>\n      <td>31731688.0</td>\n      <td>17.7</td>\n      <td>17.7</td>\n      <td>0.470</td>\n      <td>9.9</td>\n    </tr>\n  </tbody>\n</table>\n<p>3 rows × 22 columns</p>\n</div>"
          },
          "metadata": {}
        }
      ],
      "execution_count": null
    },
    {
      "cell_type": "code",
      "metadata": {
        "cell_id": "00006-3a1b7f1c-e26d-40a0-a9d0-3bf8e7f4be86",
        "deepnote_to_be_reexecuted": false,
        "source_hash": "88defe5c",
        "execution_millis": 10,
        "execution_start": 1615519407285,
        "deepnote_cell_type": "code"
      },
      "source": "life.info()",
      "outputs": [
        {
          "name": "stdout",
          "text": "<class 'pandas.core.frame.DataFrame'>\nRangeIndex: 2938 entries, 0 to 2937\nData columns (total 22 columns):\n #   Column                           Non-Null Count  Dtype  \n---  ------                           --------------  -----  \n 0   Country                          2938 non-null   object \n 1   Year                             2938 non-null   int64  \n 2   Status                           2938 non-null   object \n 3   Life expectancy                  2928 non-null   float64\n 4   Adult Mortality                  2928 non-null   float64\n 5   infant deaths                    2938 non-null   int64  \n 6   Alcohol                          2744 non-null   float64\n 7   percentage expenditure           2938 non-null   float64\n 8   Hepatitis B                      2385 non-null   float64\n 9   Measles                          2938 non-null   int64  \n 10   BMI                             2904 non-null   float64\n 11  under-five deaths                2938 non-null   int64  \n 12  Polio                            2919 non-null   float64\n 13  Total expenditure                2712 non-null   float64\n 14  Diphtheria                       2919 non-null   float64\n 15   HIV/AIDS                        2938 non-null   float64\n 16  GDP                              2490 non-null   float64\n 17  Population                       2286 non-null   float64\n 18   thinness  1-19 years            2904 non-null   float64\n 19   thinness 5-9 years              2904 non-null   float64\n 20  Income composition of resources  2771 non-null   float64\n 21  Schooling                        2775 non-null   float64\ndtypes: float64(16), int64(4), object(2)\nmemory usage: 505.1+ KB\n",
          "output_type": "stream"
        }
      ],
      "execution_count": null
    },
    {
      "cell_type": "code",
      "metadata": {
        "cell_id": "00007-b5979eae-8f60-4960-8e07-d6236adcd99d",
        "deepnote_to_be_reexecuted": false,
        "source_hash": "494a9887",
        "execution_millis": 61,
        "execution_start": 1615519407291,
        "deepnote_cell_type": "code"
      },
      "source": "life.isnull().sum()",
      "outputs": [
        {
          "output_type": "execute_result",
          "execution_count": 5,
          "data": {
            "text/plain": "Country                              0\nYear                                 0\nStatus                               0\nLife expectancy                     10\nAdult Mortality                     10\ninfant deaths                        0\nAlcohol                            194\npercentage expenditure               0\nHepatitis B                        553\nMeasles                              0\n BMI                                34\nunder-five deaths                    0\nPolio                               19\nTotal expenditure                  226\nDiphtheria                          19\n HIV/AIDS                            0\nGDP                                448\nPopulation                         652\n thinness  1-19 years               34\n thinness 5-9 years                 34\nIncome composition of resources    167\nSchooling                          163\ndtype: int64"
          },
          "metadata": {}
        }
      ],
      "execution_count": null
    },
    {
      "cell_type": "code",
      "metadata": {
        "cell_id": "00008-76d82b72-75a4-45d8-bb0c-e9578c9daaf1",
        "deepnote_to_be_reexecuted": false,
        "source_hash": "a38c3499",
        "execution_millis": 3,
        "execution_start": 1615519407299,
        "deepnote_cell_type": "code"
      },
      "source": "# since our target varible is Life expectancy, so we need to delete those missing life expectancy\nlife = life[~life['Life expectancy '].isnull()]",
      "outputs": [],
      "execution_count": null
    },
    {
      "cell_type": "code",
      "metadata": {
        "cell_id": "00009-037665e7-37a9-458e-bdc2-2967e78437a1",
        "deepnote_to_be_reexecuted": false,
        "source_hash": "8fd1cc45",
        "execution_millis": 47,
        "execution_start": 1615519407306,
        "deepnote_cell_type": "code"
      },
      "source": "life.shape",
      "outputs": [
        {
          "output_type": "execute_result",
          "execution_count": 7,
          "data": {
            "text/plain": "(2928, 22)"
          },
          "metadata": {}
        }
      ],
      "execution_count": null
    },
    {
      "cell_type": "code",
      "metadata": {
        "cell_id": "00010-1ebb24ef-b3c5-4288-85b6-e4b13fedc668",
        "deepnote_to_be_reexecuted": false,
        "source_hash": "3f27a810",
        "execution_millis": 5,
        "execution_start": 1615519407311,
        "deepnote_cell_type": "code"
      },
      "source": "# Make those int values except year as float so that to treat them as numeric\nint_cols = ['infant deaths', 'Measles ', 'under-five deaths ']\nlife[int_cols] = life[int_cols].astype(float)",
      "outputs": [],
      "execution_count": null
    },
    {
      "cell_type": "code",
      "metadata": {
        "cell_id": "00011-4a8a20bd-3d4d-45ed-9118-e20fd58f8078",
        "deepnote_to_be_reexecuted": false,
        "source_hash": "a6d79502",
        "execution_millis": 18,
        "execution_start": 1615519407318,
        "deepnote_cell_type": "code"
      },
      "source": "# Set life expectancy variable as target variable\ny = life['Life expectancy ']",
      "outputs": [],
      "execution_count": null
    },
    {
      "cell_type": "code",
      "metadata": {
        "cell_id": "00012-a295261f-0928-4009-823a-9cace10e53b6",
        "deepnote_to_be_reexecuted": false,
        "source_hash": "5603576b",
        "execution_millis": 1,
        "execution_start": 1615519407337,
        "deepnote_cell_type": "code"
      },
      "source": "cols = list(life.columns)",
      "outputs": [],
      "execution_count": null
    },
    {
      "cell_type": "code",
      "metadata": {
        "cell_id": "00013-cceec077-dea3-4ae7-a4fd-fe176a968c6d",
        "deepnote_to_be_reexecuted": false,
        "source_hash": "55dc05c5",
        "execution_millis": 0,
        "execution_start": 1615519407338,
        "deepnote_cell_type": "code"
      },
      "source": "cols.remove('Life expectancy ')",
      "outputs": [],
      "execution_count": null
    },
    {
      "cell_type": "code",
      "metadata": {
        "cell_id": "00014-ee35c7e2-56b8-4629-b95a-507f691f98c1",
        "deepnote_to_be_reexecuted": false,
        "source_hash": "fe768f99",
        "execution_millis": 3,
        "execution_start": 1615519407343,
        "deepnote_cell_type": "code"
      },
      "source": "X = life[cols]",
      "outputs": [],
      "execution_count": null
    },
    {
      "cell_type": "markdown",
      "source": "## 1.1 Split Data for training and testing\nHere we choose data before 2015 for model training and data of 2015 for model testing",
      "metadata": {
        "cell_id": "00016-b0ee4631-7682-441b-86dc-a453dddffc96",
        "deepnote_cell_type": "markdown"
      }
    },
    {
      "cell_type": "code",
      "metadata": {
        "cell_id": "00017-62044303-0a0c-4a82-b72c-a95e707041fd",
        "deepnote_to_be_reexecuted": false,
        "source_hash": "adc12b66",
        "execution_millis": 6,
        "execution_start": 1615519407370,
        "deepnote_cell_type": "code"
      },
      "source": "X_train = X[X.Year != 2015]\nX_test = X[X.Year == 2015]",
      "outputs": [],
      "execution_count": null
    },
    {
      "cell_type": "code",
      "metadata": {
        "cell_id": "00018-63fc6eaa-34f0-46de-ab67-8a115b208156",
        "deepnote_to_be_reexecuted": false,
        "source_hash": "5154b43",
        "execution_millis": 0,
        "execution_start": 1615519407410,
        "deepnote_cell_type": "code"
      },
      "source": "y_train = y[X.Year != 2015]\ny_test = y[X.Year == 2015]",
      "outputs": [],
      "execution_count": null
    },
    {
      "cell_type": "code",
      "metadata": {
        "cell_id": "00019-2bc22d58-dc6d-4215-9edf-5e76fa2631a3",
        "deepnote_to_be_reexecuted": false,
        "source_hash": "43860f22",
        "execution_millis": 0,
        "execution_start": 1615519407411,
        "deepnote_cell_type": "code"
      },
      "source": "cols.remove('Year')\nX_train = X_train[cols]\nX_test = X_test[cols]",
      "outputs": [],
      "execution_count": null
    },
    {
      "cell_type": "code",
      "metadata": {
        "cell_id": "00022-c0951214-db45-4c39-9dc7-7ecc4b7dbe42",
        "deepnote_to_be_reexecuted": false,
        "source_hash": "ea5d12e",
        "execution_millis": 15,
        "execution_start": 1615519407412,
        "deepnote_cell_type": "code"
      },
      "source": "X_train.shape, X_test.shape",
      "outputs": [
        {
          "output_type": "execute_result",
          "execution_count": 16,
          "data": {
            "text/plain": "((2745, 20), (183, 20))"
          },
          "metadata": {}
        }
      ],
      "execution_count": null
    },
    {
      "cell_type": "code",
      "metadata": {
        "cell_id": "00023-58e82a25-a0fb-443b-8c36-5777a008099b",
        "deepnote_to_be_reexecuted": false,
        "source_hash": "2175c87",
        "execution_millis": 15,
        "execution_start": 1615519407413,
        "deepnote_cell_type": "code"
      },
      "source": "X_train.columns",
      "outputs": [
        {
          "output_type": "execute_result",
          "execution_count": 17,
          "data": {
            "text/plain": "Index(['Country', 'Status', 'Adult Mortality', 'infant deaths', 'Alcohol',\n       'percentage expenditure', 'Hepatitis B', 'Measles ', ' BMI ',\n       'under-five deaths ', 'Polio', 'Total expenditure', 'Diphtheria ',\n       ' HIV/AIDS', 'GDP', 'Population', ' thinness  1-19 years',\n       ' thinness 5-9 years', 'Income composition of resources', 'Schooling'],\n      dtype='object')"
          },
          "metadata": {}
        }
      ],
      "execution_count": null
    },
    {
      "cell_type": "markdown",
      "source": "## 2. Data Preprocessing\nIn this process, we are going to include data imputation to better process data for analyzing.",
      "metadata": {
        "cell_id": "00024-4f4c0835-c0d8-4cb2-8cd5-a26c65ed839a",
        "deepnote_cell_type": "markdown"
      }
    },
    {
      "cell_type": "code",
      "metadata": {
        "cell_id": "00025-b7815516-f084-4c23-ba4e-bb7ae5a8575c",
        "deepnote_to_be_reexecuted": false,
        "source_hash": "552ae37f",
        "execution_millis": 18,
        "execution_start": 1615519407416,
        "deepnote_cell_type": "code"
      },
      "source": "mask_num = X_train.dtypes == (float or int)\ncolumns_num = X_train.columns[mask_num].tolist()\ncolumns_cat = X_train.columns[~mask_num].tolist()\n\nprint('-Num', columns_num)\nprint('-Cat', columns_cat, '\\n')",
      "outputs": [
        {
          "name": "stdout",
          "text": "-Num ['Adult Mortality', 'infant deaths', 'Alcohol', 'percentage expenditure', 'Hepatitis B', 'Measles ', ' BMI ', 'under-five deaths ', 'Polio', 'Total expenditure', 'Diphtheria ', ' HIV/AIDS', 'GDP', 'Population', ' thinness  1-19 years', ' thinness 5-9 years', 'Income composition of resources', 'Schooling']\n-Cat ['Country', 'Status'] \n\n",
          "output_type": "stream"
        }
      ],
      "execution_count": null
    },
    {
      "cell_type": "code",
      "metadata": {
        "cell_id": "00026-f5d3ce56-511d-4497-a0bc-4c9b33e21cb4",
        "deepnote_to_be_reexecuted": false,
        "source_hash": "fdbfa372",
        "execution_millis": 12,
        "execution_start": 1615519407430,
        "deepnote_cell_type": "code"
      },
      "source": "life[columns_cat].head(3)",
      "outputs": [
        {
          "output_type": "execute_result",
          "execution_count": 19,
          "data": {
            "application/vnd.deepnote.dataframe.v2+json": {
              "row_count": 3,
              "column_count": 2,
              "columns": [
                {
                  "name": "Country",
                  "dtype": "object",
                  "stats": {
                    "unique_count": 1,
                    "nan_count": 0,
                    "categories": [
                      {
                        "name": "Afghanistan",
                        "count": 3
                      }
                    ]
                  }
                },
                {
                  "name": "Status",
                  "dtype": "object",
                  "stats": {
                    "unique_count": 1,
                    "nan_count": 0,
                    "categories": [
                      {
                        "name": "Developing",
                        "count": 3
                      }
                    ]
                  }
                },
                {
                  "name": "_deepnote_index_column",
                  "dtype": "int64"
                }
              ],
              "rows_top": [
                {
                  "Country": "Afghanistan",
                  "Status": "Developing",
                  "_deepnote_index_column": 0
                },
                {
                  "Country": "Afghanistan",
                  "Status": "Developing",
                  "_deepnote_index_column": 1
                },
                {
                  "Country": "Afghanistan",
                  "Status": "Developing",
                  "_deepnote_index_column": 2
                }
              ],
              "rows_bottom": null
            },
            "text/plain": "       Country      Status\n0  Afghanistan  Developing\n1  Afghanistan  Developing\n2  Afghanistan  Developing",
            "text/html": "<div>\n<style scoped>\n    .dataframe tbody tr th:only-of-type {\n        vertical-align: middle;\n    }\n\n    .dataframe tbody tr th {\n        vertical-align: top;\n    }\n\n    .dataframe thead th {\n        text-align: right;\n    }\n</style>\n<table border=\"1\" class=\"dataframe\">\n  <thead>\n    <tr style=\"text-align: right;\">\n      <th></th>\n      <th>Country</th>\n      <th>Status</th>\n    </tr>\n  </thead>\n  <tbody>\n    <tr>\n      <th>0</th>\n      <td>Afghanistan</td>\n      <td>Developing</td>\n    </tr>\n    <tr>\n      <th>1</th>\n      <td>Afghanistan</td>\n      <td>Developing</td>\n    </tr>\n    <tr>\n      <th>2</th>\n      <td>Afghanistan</td>\n      <td>Developing</td>\n    </tr>\n  </tbody>\n</table>\n</div>"
          },
          "metadata": {}
        }
      ],
      "execution_count": null
    },
    {
      "cell_type": "markdown",
      "source": "### 2.1 Imputation",
      "metadata": {
        "cell_id": "00027-20ac0b28-e65d-4798-a39c-8dd95bd4acc8",
        "deepnote_cell_type": "markdown"
      }
    },
    {
      "cell_type": "code",
      "metadata": {
        "cell_id": "00028-30534d67-0c4b-42a8-9bb7-0e3f84032500",
        "deepnote_to_be_reexecuted": false,
        "source_hash": "d67870ee",
        "execution_millis": 0,
        "execution_start": 1615519407478,
        "deepnote_cell_type": "code"
      },
      "source": "cat_pipe = Pipeline([('imputer', SimpleImputer(missing_values=np.nan,\n                                               strategy='most_frequent')),\n                      ('ohe', OneHotEncoder())\n                     ])\ncon_pipe = Pipeline([('imputer', SimpleImputer(missing_values=np.nan,\n                                               strategy='median')),\n                    ('scaler', StandardScaler())\n                      ])\npreprocessing = ColumnTransformer([('categorical', cat_pipe, columns_cat),\n                                   ('continuous',  con_pipe, columns_num)\n                                   ])",
      "outputs": [],
      "execution_count": null
    },
    {
      "cell_type": "markdown",
      "source": "## 3. Model Training\nIn this section, I chose Linear Regression, Ridge, Lasso, Decision Tree Regressor and RandomForest Regressor. For evaluation metric, I chose the mean absolute error for following reasons. First, life expectancy varies in a small range so MAE is a good and interpretable measure. Unlike MSE, it is also robust to outliers.  Moreover, in the practice, the MSE or R2_score metrics would tend to build a less general model which will cause overfitting problem.",
      "metadata": {
        "cell_id": "00029-9347079f-88be-4dc2-8f86-5b7036314c62",
        "deepnote_cell_type": "markdown"
      }
    },
    {
      "cell_type": "code",
      "metadata": {
        "cell_id": "00030-b2ab9483-3a83-4a80-841c-a3695f4084e3",
        "deepnote_to_be_reexecuted": false,
        "source_hash": "b8d99cea",
        "execution_millis": 1,
        "execution_start": 1615519407478,
        "deepnote_cell_type": "code"
      },
      "source": "# Create a search space for randomized search\nsearch_space = [\n    {\n        'clf': [LinearRegression()]\n    },\n    {\n        'clf': [Ridge()],\n        'clf__alpha': [200, 230, 250,265, 270, 275, 290, 300, 500]\n    },\n    {\n        'clf': [Lasso()],\n        'clf__alpha': [0.02, 0.024, 0.025, 0.026, 0.03]\n    },\n    {\n        'clf': [DecisionTreeRegressor()],\n        'clf__criterion': [\"mse\", \"mae\"],\n        'clf__min_samples_split': [10, 20, 40],\n        'clf__max_depth': [2, 6, 8],\n        'clf__min_samples_leaf': [20, 40, 100],\n        'clf__max_leaf_nodes': [5, 20, 100]\n        \n    },\n    {\n        'clf': [RandomForestRegressor()],\n        'clf__max_depth': [10, 20, 30, 40, 50, 60, 70, 80, 90, 100, None],\n        'clf__max_features': ['auto', 'sqrt'],\n        'clf__min_samples_leaf': [1, 2, 4],\n        'clf__min_samples_split': [2, 5, 10],\n        'clf__n_estimators': [200, 400, 600, 800, 1000, 1200, 1400, 1600, 1800, 2000]\n    }\n]",
      "outputs": [],
      "execution_count": null
    },
    {
      "cell_type": "code",
      "metadata": {
        "cell_id": "00031-b459ddf8-a69d-419c-a530-365433fbd901",
        "deepnote_to_be_reexecuted": false,
        "source_hash": "679e6b1b",
        "execution_millis": 1,
        "execution_start": 1615519407479,
        "deepnote_cell_type": "code"
      },
      "source": "class DummyEstimator(BaseEstimator):\n    \"Pass through class, methods are present but do nothing.\"\n    def fit(self): pass\n    def score(self): pass",
      "outputs": [],
      "execution_count": null
    },
    {
      "cell_type": "code",
      "metadata": {
        "cell_id": "00032-914ba1af-0190-42bd-9384-16fbe099a631",
        "deepnote_to_be_reexecuted": false,
        "source_hash": "d8e0543",
        "execution_millis": 2,
        "execution_start": 1615519407480,
        "deepnote_cell_type": "code"
      },
      "source": "pipe = Pipeline([('preprocessing', preprocessing),\n                ('clf', DummyEstimator())])",
      "outputs": [],
      "execution_count": null
    },
    {
      "cell_type": "code",
      "metadata": {
        "cell_id": "00033-4e48c555-f974-495f-8b33-1fb68b2af384",
        "deepnote_to_be_reexecuted": false,
        "source_hash": "2cb6144a",
        "execution_millis": 2304552,
        "execution_start": 1615519407484,
        "deepnote_cell_type": "code"
      },
      "source": "clf_algos_rand = RandomizedSearchCV(estimator=pipe, \n                                    param_distributions=search_space, \n                                    n_iter=25,\n                                    cv=5, \n                                    n_jobs=-1,\n                                    verbose=1,\n                                   scoring = 'neg_mean_absolute_error')\n#  Fit grid search\nbest_model = clf_algos_rand.fit(X_train, y_train)",
      "outputs": [
        {
          "name": "stdout",
          "text": "Fitting 5 folds for each of 25 candidates, totalling 125 fits\n/shared-libs/python3.7/py/lib/python3.7/site-packages/sklearn/model_selection/_search.py:921: UserWarning: One or more of the test scores are non-finite: [nan nan nan nan nan nan nan nan nan nan nan nan nan nan nan nan nan nan\n nan nan nan nan nan nan nan]\n  category=UserWarning\n",
          "output_type": "stream"
        }
      ],
      "execution_count": null
    },
    {
      "cell_type": "code",
      "metadata": {
        "cell_id": "00034-fb03aa6f-5792-4d36-810a-cabff1710532",
        "deepnote_to_be_reexecuted": false,
        "source_hash": "5c3f14ee",
        "execution_millis": 8,
        "execution_start": 1615521712062,
        "deepnote_cell_type": "code"
      },
      "source": "best_model.best_params_",
      "outputs": [
        {
          "output_type": "execute_result",
          "execution_count": 25,
          "data": {
            "text/plain": "{'clf__n_estimators': 600,\n 'clf__min_samples_split': 2,\n 'clf__min_samples_leaf': 1,\n 'clf__max_features': 'auto',\n 'clf__max_depth': None,\n 'clf': RandomForestRegressor(n_estimators=600)}"
          },
          "metadata": {}
        }
      ],
      "execution_count": null
    },
    {
      "cell_type": "code",
      "metadata": {
        "tags": [],
        "cell_id": "00032-9a6df4ee-436a-4092-931b-a64728c07ef1",
        "deepnote_to_be_reexecuted": false,
        "source_hash": "73996b13",
        "execution_millis": 7,
        "execution_start": 1615521712063,
        "deepnote_cell_type": "code"
      },
      "source": "best_model.best_params_['clf']",
      "outputs": [
        {
          "output_type": "execute_result",
          "execution_count": 26,
          "data": {
            "text/plain": "RandomForestRegressor(n_estimators=600)"
          },
          "metadata": {}
        }
      ],
      "execution_count": null
    },
    {
      "cell_type": "code",
      "metadata": {
        "tags": [],
        "cell_id": "00035-69d789cc-f353-4320-b232-be37195dbdb5",
        "deepnote_to_be_reexecuted": false,
        "source_hash": "706bc70",
        "execution_millis": 0,
        "execution_start": 1615521712064,
        "deepnote_cell_type": "code"
      },
      "source": "hyperparameters = best_model.best_params_['clf'].get_params()",
      "outputs": [],
      "execution_count": null
    },
    {
      "cell_type": "code",
      "metadata": {
        "cell_id": "00035-00d6e23a-3f75-4cea-a42c-2438e8de3e44",
        "deepnote_to_be_reexecuted": false,
        "source_hash": "a4b829c",
        "execution_millis": 6,
        "execution_start": 1615521712105,
        "deepnote_cell_type": "code"
      },
      "source": "hyperparameters",
      "outputs": [
        {
          "output_type": "execute_result",
          "execution_count": 28,
          "data": {
            "text/plain": "{'bootstrap': True,\n 'ccp_alpha': 0.0,\n 'criterion': 'mse',\n 'max_depth': None,\n 'max_features': 'auto',\n 'max_leaf_nodes': None,\n 'max_samples': None,\n 'min_impurity_decrease': 0.0,\n 'min_impurity_split': None,\n 'min_samples_leaf': 1,\n 'min_samples_split': 2,\n 'min_weight_fraction_leaf': 0.0,\n 'n_estimators': 600,\n 'n_jobs': None,\n 'oob_score': False,\n 'random_state': None,\n 'verbose': 0,\n 'warm_start': False}"
          },
          "metadata": {}
        }
      ],
      "execution_count": null
    },
    {
      "cell_type": "code",
      "metadata": {
        "cell_id": "00036-33f525f6-af70-4d0c-9669-6607613c2f56",
        "deepnote_to_be_reexecuted": false,
        "source_hash": "d28efe45",
        "execution_millis": 67001,
        "execution_start": 1615521712106,
        "deepnote_cell_type": "code"
      },
      "source": "pipe = Pipeline([('preprocessing', preprocessing),\n                ('rf', RandomForestRegressor(**hyperparameters))])\npipe.fit(X_train, y_train)",
      "outputs": [
        {
          "output_type": "execute_result",
          "execution_count": 29,
          "data": {
            "text/plain": "Pipeline(steps=[('preprocessing',\n                 ColumnTransformer(transformers=[('categorical',\n                                                  Pipeline(steps=[('imputer',\n                                                                   SimpleImputer(strategy='most_frequent')),\n                                                                  ('ohe',\n                                                                   OneHotEncoder())]),\n                                                  ['Country', 'Status']),\n                                                 ('continuous',\n                                                  Pipeline(steps=[('imputer',\n                                                                   SimpleImputer(strategy='median')),\n                                                                  ('scaler',\n                                                                   StandardScaler())]),\n                                                  ['Adult Mortality',\n                                                   'infant deaths', 'Alcohol',\n                                                   'percentage expenditure',\n                                                   'Hepatitis B', 'Measles ',\n                                                   ' BMI ',\n                                                   'under-five deaths ',\n                                                   'Polio', 'Total expenditure',\n                                                   'Diphtheria ', ' HIV/AIDS',\n                                                   'GDP', 'Population',\n                                                   ' thinness  1-19 years',\n                                                   ' thinness 5-9 years',\n                                                   'Income composition of '\n                                                   'resources',\n                                                   'Schooling'])])),\n                ('rf', RandomForestRegressor(n_estimators=600))])"
          },
          "metadata": {}
        }
      ],
      "execution_count": null
    },
    {
      "cell_type": "markdown",
      "source": "## 4. Evaluation",
      "metadata": {
        "cell_id": "00037-8d356b77-b56f-43de-9b53-191e0bbdb91c",
        "deepnote_cell_type": "markdown"
      }
    },
    {
      "cell_type": "code",
      "metadata": {
        "cell_id": "00038-767e2d5b-5504-4444-8110-105ef70c5020",
        "deepnote_to_be_reexecuted": false,
        "source_hash": "bd023cc4",
        "execution_millis": 337,
        "execution_start": 1615521779101,
        "deepnote_cell_type": "code"
      },
      "source": "rmse_train = np.sqrt(mean_squared_error(y_train, pipe.predict(X_train)))\npred = pipe.predict(X_test)\nrmse = np.sqrt(mean_squared_error(y_test, pred))",
      "outputs": [],
      "execution_count": null
    },
    {
      "cell_type": "code",
      "metadata": {
        "tags": [],
        "cell_id": "00038-623e82b7-d4b4-42b5-a346-d3227634393c",
        "deepnote_to_be_reexecuted": false,
        "source_hash": "d4758ab8",
        "execution_millis": 13,
        "execution_start": 1615521779441,
        "deepnote_cell_type": "code"
      },
      "source": "print(\"Train RMSE of the best model is:\", rmse_train)",
      "outputs": [
        {
          "name": "stdout",
          "text": "Train RMSE of the best model is: 0.6372463790337067\n",
          "output_type": "stream"
        }
      ],
      "execution_count": null
    },
    {
      "cell_type": "code",
      "metadata": {
        "cell_id": "00039-f90030d7-3b98-4bbd-a3d6-ac7c2da343a2",
        "deepnote_to_be_reexecuted": false,
        "source_hash": "60f2fecf",
        "execution_millis": 9,
        "execution_start": 1615521779447,
        "deepnote_cell_type": "code"
      },
      "source": "print('Test RMSE of the best model is: ', rmse)",
      "outputs": [
        {
          "name": "stdout",
          "text": "Test RMSE of the best model is:  1.8205568058934933\n",
          "output_type": "stream"
        }
      ],
      "execution_count": null
    },
    {
      "cell_type": "markdown",
      "source": "",
      "metadata": {
        "tags": [],
        "cell_id": "00038-6558fe39-228d-44a0-b9b3-300584e8512a",
        "deepnote_cell_type": "markdown"
      }
    },
    {
      "cell_type": "code",
      "metadata": {
        "tags": [],
        "cell_id": "00041-578b1772-ea6a-45f9-8e62-b76bfe3119e9",
        "deepnote_to_be_reexecuted": false,
        "source_hash": "ce9211a",
        "execution_millis": 262,
        "execution_start": 1615521779493,
        "deepnote_cell_type": "code"
      },
      "source": "r2_train = r2_score(y_train, pipe.predict(X_train))",
      "outputs": [],
      "execution_count": null
    },
    {
      "cell_type": "code",
      "metadata": {
        "cell_id": "00040-c31578b9-381a-4d0f-b16c-2cc3cfb8ec97",
        "deepnote_to_be_reexecuted": false,
        "source_hash": "bf265acd",
        "execution_millis": 6,
        "execution_start": 1615521779758,
        "deepnote_cell_type": "code"
      },
      "source": "r2 = r2_score(y_test, pred)",
      "outputs": [],
      "execution_count": null
    },
    {
      "cell_type": "code",
      "metadata": {
        "tags": [],
        "cell_id": "00043-7c405fc2-037c-483c-ab7d-a438c75612fc",
        "deepnote_to_be_reexecuted": false,
        "source_hash": "4f94f03a",
        "execution_millis": 1,
        "execution_start": 1615521779768,
        "deepnote_cell_type": "code"
      },
      "source": "print(\"Train R2 score of the best model is:\", r2_train)",
      "outputs": [
        {
          "name": "stdout",
          "text": "Train R2 score of the best model is: 0.995582956761182\n",
          "output_type": "stream"
        }
      ],
      "execution_count": null
    },
    {
      "cell_type": "code",
      "metadata": {
        "cell_id": "00041-d510863b-8451-4c70-9632-f6f3f39ed93d",
        "deepnote_to_be_reexecuted": false,
        "source_hash": "c1d5e39b",
        "execution_millis": 2,
        "execution_start": 1615521779774,
        "deepnote_cell_type": "code"
      },
      "source": "print('R2 score of the best model is: ', r2)",
      "outputs": [
        {
          "name": "stdout",
          "text": "R2 score of the best model is:  0.9495013509914836\n",
          "output_type": "stream"
        }
      ],
      "execution_count": null
    },
    {
      "cell_type": "markdown",
      "source": "",
      "metadata": {
        "tags": [],
        "cell_id": "00040-43c17a1d-1649-4c98-981b-5da99ef5f89c",
        "deepnote_cell_type": "markdown"
      }
    },
    {
      "cell_type": "markdown",
      "source": "## 5. Feature Importance",
      "metadata": {
        "cell_id": "00042-948bd67b-e310-4d84-9a2e-4546caa5f072",
        "deepnote_cell_type": "markdown"
      }
    },
    {
      "cell_type": "code",
      "metadata": {
        "cell_id": "00043-72a67384-f146-4e17-a8c6-e80b1e42d3ef",
        "deepnote_to_be_reexecuted": false,
        "source_hash": "99007e9",
        "execution_millis": 46433,
        "execution_start": 1615521779824,
        "deepnote_cell_type": "code"
      },
      "source": "r = permutation_importance(pipe, \n                           X_test, y_test, \n                           n_repeats=30,\n                           random_state=42)",
      "outputs": [],
      "execution_count": null
    },
    {
      "cell_type": "code",
      "metadata": {
        "cell_id": "00044-78949c17-8c9d-4954-a1e5-2766b9467c59",
        "deepnote_to_be_reexecuted": false,
        "source_hash": "c05013d",
        "execution_millis": 0,
        "execution_start": 1615521826281,
        "deepnote_cell_type": "code"
      },
      "source": "feature_importance = pd.DataFrame()\nmean = []\nstd = []\ncolumns = []",
      "outputs": [],
      "execution_count": null
    },
    {
      "cell_type": "code",
      "metadata": {
        "cell_id": "00045-1ba6f6fc-0e1e-4cfc-88f0-5d95d92e86b2",
        "deepnote_to_be_reexecuted": false,
        "source_hash": "26ca3602",
        "execution_millis": 0,
        "execution_start": 1615521826282,
        "deepnote_cell_type": "code"
      },
      "source": "for i in r.importances_mean.argsort()[::-1]:\n    columns.append(X_train.columns[i])\n    mean.append(round(r.importances_mean[i], 3))\n    std.append(round(r.importances_std[i], 3))",
      "outputs": [],
      "execution_count": null
    },
    {
      "cell_type": "code",
      "metadata": {
        "cell_id": "00046-6bbe79c4-46ea-45d9-896f-82def4db19f6",
        "deepnote_to_be_reexecuted": false,
        "source_hash": "2ccad002",
        "execution_millis": 0,
        "execution_start": 1615521826283,
        "deepnote_cell_type": "code"
      },
      "source": "feature_importance['Cols'] = columns\nfeature_importance['Mean'] = mean\nfeature_importance['Std'] = std",
      "outputs": [],
      "execution_count": null
    },
    {
      "cell_type": "code",
      "metadata": {
        "cell_id": "00047-4d6af542-c2f3-42db-bbe0-b7509fa522cf",
        "deepnote_to_be_reexecuted": false,
        "source_hash": "56b6738b",
        "execution_millis": 52,
        "execution_start": 1615521826303,
        "deepnote_cell_type": "code"
      },
      "source": "feature_importance",
      "outputs": [
        {
          "output_type": "execute_result",
          "execution_count": 41,
          "data": {
            "application/vnd.deepnote.dataframe.v2+json": {
              "row_count": 20,
              "column_count": 3,
              "columns": [
                {
                  "name": "Cols",
                  "dtype": "object",
                  "stats": {
                    "unique_count": 20,
                    "nan_count": 0,
                    "categories": [
                      {
                        "name": "Income composition of resources",
                        "count": 1
                      },
                      {
                        "name": "Adult Mortality",
                        "count": 1
                      },
                      {
                        "name": "18 others",
                        "count": 18
                      }
                    ]
                  }
                },
                {
                  "name": "Mean",
                  "dtype": "float64",
                  "stats": {
                    "unique_count": 12,
                    "nan_count": 0,
                    "min": 0,
                    "max": 0.266,
                    "histogram": [
                      {
                        "bin_start": 0,
                        "bin_end": 0.026600000000000002,
                        "count": 17
                      },
                      {
                        "bin_start": 0.026600000000000002,
                        "bin_end": 0.053200000000000004,
                        "count": 0
                      },
                      {
                        "bin_start": 0.053200000000000004,
                        "bin_end": 0.07980000000000001,
                        "count": 0
                      },
                      {
                        "bin_start": 0.07980000000000001,
                        "bin_end": 0.10640000000000001,
                        "count": 0
                      },
                      {
                        "bin_start": 0.10640000000000001,
                        "bin_end": 0.133,
                        "count": 0
                      },
                      {
                        "bin_start": 0.133,
                        "bin_end": 0.15960000000000002,
                        "count": 0
                      },
                      {
                        "bin_start": 0.15960000000000002,
                        "bin_end": 0.1862,
                        "count": 0
                      },
                      {
                        "bin_start": 0.1862,
                        "bin_end": 0.21280000000000002,
                        "count": 1
                      },
                      {
                        "bin_start": 0.21280000000000002,
                        "bin_end": 0.23940000000000003,
                        "count": 1
                      },
                      {
                        "bin_start": 0.23940000000000003,
                        "bin_end": 0.266,
                        "count": 1
                      }
                    ]
                  }
                },
                {
                  "name": "Std",
                  "dtype": "float64",
                  "stats": {
                    "unique_count": 7,
                    "nan_count": 0,
                    "min": 0,
                    "max": 0.036,
                    "histogram": [
                      {
                        "bin_start": 0,
                        "bin_end": 0.0036,
                        "count": 17
                      },
                      {
                        "bin_start": 0.0036,
                        "bin_end": 0.0072,
                        "count": 0
                      },
                      {
                        "bin_start": 0.0072,
                        "bin_end": 0.0108,
                        "count": 0
                      },
                      {
                        "bin_start": 0.0108,
                        "bin_end": 0.0144,
                        "count": 0
                      },
                      {
                        "bin_start": 0.0144,
                        "bin_end": 0.018,
                        "count": 0
                      },
                      {
                        "bin_start": 0.018,
                        "bin_end": 0.0216,
                        "count": 0
                      },
                      {
                        "bin_start": 0.0216,
                        "bin_end": 0.0252,
                        "count": 0
                      },
                      {
                        "bin_start": 0.0252,
                        "bin_end": 0.0288,
                        "count": 1
                      },
                      {
                        "bin_start": 0.0288,
                        "bin_end": 0.0324,
                        "count": 0
                      },
                      {
                        "bin_start": 0.0324,
                        "bin_end": 0.036,
                        "count": 2
                      }
                    ]
                  }
                },
                {
                  "name": "_deepnote_index_column",
                  "dtype": "int64"
                }
              ],
              "rows_top": [
                {
                  "Cols": "Income composition of resources",
                  "Mean": 0.266,
                  "Std": 0.034,
                  "_deepnote_index_column": 0
                },
                {
                  "Cols": "Adult Mortality",
                  "Mean": 0.239,
                  "Std": 0.027,
                  "_deepnote_index_column": 1
                },
                {
                  "Cols": " HIV/AIDS",
                  "Mean": 0.2,
                  "Std": 0.036,
                  "_deepnote_index_column": 2
                },
                {
                  "Cols": " thinness 5-9 years",
                  "Mean": 0.014,
                  "Std": 0.003,
                  "_deepnote_index_column": 3
                },
                {
                  "Cols": "Schooling",
                  "Mean": 0.012,
                  "Std": 0.002,
                  "_deepnote_index_column": 4
                },
                {
                  "Cols": "Country",
                  "Mean": 0.009,
                  "Std": 0.001,
                  "_deepnote_index_column": 5
                },
                {
                  "Cols": "under-five deaths ",
                  "Mean": 0.008,
                  "Std": 0.002,
                  "_deepnote_index_column": 6
                },
                {
                  "Cols": " BMI ",
                  "Mean": 0.005,
                  "Std": 0.002,
                  "_deepnote_index_column": 7
                },
                {
                  "Cols": "Polio",
                  "Mean": 0.004,
                  "Std": 0.002,
                  "_deepnote_index_column": 8
                },
                {
                  "Cols": " thinness  1-19 years",
                  "Mean": 0.004,
                  "Std": 0.001,
                  "_deepnote_index_column": 9
                },
                {
                  "Cols": "GDP",
                  "Mean": 0.003,
                  "Std": 0.001,
                  "_deepnote_index_column": 10
                },
                {
                  "Cols": "infant deaths",
                  "Mean": 0.001,
                  "Std": 0.001,
                  "_deepnote_index_column": 11
                },
                {
                  "Cols": "Hepatitis B",
                  "Mean": 0.001,
                  "Std": 0,
                  "_deepnote_index_column": 12
                },
                {
                  "Cols": "Population",
                  "Mean": 0.001,
                  "Std": 0.001,
                  "_deepnote_index_column": 13
                },
                {
                  "Cols": "Alcohol",
                  "Mean": 0,
                  "Std": 0,
                  "_deepnote_index_column": 14
                },
                {
                  "Cols": "Status",
                  "Mean": 0,
                  "Std": 0,
                  "_deepnote_index_column": 15
                },
                {
                  "Cols": "Measles ",
                  "Mean": 0,
                  "Std": 0,
                  "_deepnote_index_column": 16
                },
                {
                  "Cols": "Total expenditure",
                  "Mean": 0,
                  "Std": 0,
                  "_deepnote_index_column": 17
                },
                {
                  "Cols": "percentage expenditure",
                  "Mean": 0,
                  "Std": 0,
                  "_deepnote_index_column": 18
                },
                {
                  "Cols": "Diphtheria ",
                  "Mean": 0,
                  "Std": 0.001,
                  "_deepnote_index_column": 19
                }
              ],
              "rows_bottom": null
            },
            "text/plain": "                               Cols   Mean    Std\n0   Income composition of resources  0.266  0.034\n1                   Adult Mortality  0.239  0.027\n2                          HIV/AIDS  0.200  0.036\n3                thinness 5-9 years  0.014  0.003\n4                         Schooling  0.012  0.002\n5                           Country  0.009  0.001\n6                under-five deaths   0.008  0.002\n7                              BMI   0.005  0.002\n8                             Polio  0.004  0.002\n9              thinness  1-19 years  0.004  0.001\n10                              GDP  0.003  0.001\n11                    infant deaths  0.001  0.001\n12                      Hepatitis B  0.001  0.000\n13                       Population  0.001  0.001\n14                          Alcohol  0.000  0.000\n15                           Status  0.000  0.000\n16                         Measles   0.000  0.000\n17                Total expenditure  0.000  0.000\n18           percentage expenditure  0.000  0.000\n19                      Diphtheria  -0.000  0.001",
            "text/html": "<div>\n<style scoped>\n    .dataframe tbody tr th:only-of-type {\n        vertical-align: middle;\n    }\n\n    .dataframe tbody tr th {\n        vertical-align: top;\n    }\n\n    .dataframe thead th {\n        text-align: right;\n    }\n</style>\n<table border=\"1\" class=\"dataframe\">\n  <thead>\n    <tr style=\"text-align: right;\">\n      <th></th>\n      <th>Cols</th>\n      <th>Mean</th>\n      <th>Std</th>\n    </tr>\n  </thead>\n  <tbody>\n    <tr>\n      <th>0</th>\n      <td>Income composition of resources</td>\n      <td>0.266</td>\n      <td>0.034</td>\n    </tr>\n    <tr>\n      <th>1</th>\n      <td>Adult Mortality</td>\n      <td>0.239</td>\n      <td>0.027</td>\n    </tr>\n    <tr>\n      <th>2</th>\n      <td>HIV/AIDS</td>\n      <td>0.200</td>\n      <td>0.036</td>\n    </tr>\n    <tr>\n      <th>3</th>\n      <td>thinness 5-9 years</td>\n      <td>0.014</td>\n      <td>0.003</td>\n    </tr>\n    <tr>\n      <th>4</th>\n      <td>Schooling</td>\n      <td>0.012</td>\n      <td>0.002</td>\n    </tr>\n    <tr>\n      <th>5</th>\n      <td>Country</td>\n      <td>0.009</td>\n      <td>0.001</td>\n    </tr>\n    <tr>\n      <th>6</th>\n      <td>under-five deaths</td>\n      <td>0.008</td>\n      <td>0.002</td>\n    </tr>\n    <tr>\n      <th>7</th>\n      <td>BMI</td>\n      <td>0.005</td>\n      <td>0.002</td>\n    </tr>\n    <tr>\n      <th>8</th>\n      <td>Polio</td>\n      <td>0.004</td>\n      <td>0.002</td>\n    </tr>\n    <tr>\n      <th>9</th>\n      <td>thinness  1-19 years</td>\n      <td>0.004</td>\n      <td>0.001</td>\n    </tr>\n    <tr>\n      <th>10</th>\n      <td>GDP</td>\n      <td>0.003</td>\n      <td>0.001</td>\n    </tr>\n    <tr>\n      <th>11</th>\n      <td>infant deaths</td>\n      <td>0.001</td>\n      <td>0.001</td>\n    </tr>\n    <tr>\n      <th>12</th>\n      <td>Hepatitis B</td>\n      <td>0.001</td>\n      <td>0.000</td>\n    </tr>\n    <tr>\n      <th>13</th>\n      <td>Population</td>\n      <td>0.001</td>\n      <td>0.001</td>\n    </tr>\n    <tr>\n      <th>14</th>\n      <td>Alcohol</td>\n      <td>0.000</td>\n      <td>0.000</td>\n    </tr>\n    <tr>\n      <th>15</th>\n      <td>Status</td>\n      <td>0.000</td>\n      <td>0.000</td>\n    </tr>\n    <tr>\n      <th>16</th>\n      <td>Measles</td>\n      <td>0.000</td>\n      <td>0.000</td>\n    </tr>\n    <tr>\n      <th>17</th>\n      <td>Total expenditure</td>\n      <td>0.000</td>\n      <td>0.000</td>\n    </tr>\n    <tr>\n      <th>18</th>\n      <td>percentage expenditure</td>\n      <td>0.000</td>\n      <td>0.000</td>\n    </tr>\n    <tr>\n      <th>19</th>\n      <td>Diphtheria</td>\n      <td>-0.000</td>\n      <td>0.001</td>\n    </tr>\n  </tbody>\n</table>\n</div>"
          },
          "metadata": {}
        }
      ],
      "execution_count": null
    },
    {
      "cell_type": "markdown",
      "source": "## 6. Conclusion",
      "metadata": {
        "cell_id": "00049-5704bd55-e503-4a95-95af-88c4fb80505b",
        "deepnote_cell_type": "markdown"
      }
    },
    {
      "cell_type": "markdown",
      "source": "After we fit all the models, we find out that `RandomForestRegressor` with parameters `n_estimators=600` works best among the search space. The root mean squared error is `1.82` and the R2 score is `0.944`(it may different each time fits). It means that `94.4%` of the life expectancy values in 2015  could be explained by the model. Then we analyse the feature importancy of each predictors and we surprisingly to see the `income, adult mortality and HIV/AIDS` are three top most influential factors to the life expectancy. Also, children healthcare plays an important role as influencing factors to global life expectancy <br>\n\nFor the next step, I will look more into how to polish the model so that there is less overfitting because for now the R2 scored is really high for training dataset and it will cause a bad perfomance on gernality. Also, I will add some time series analysis since there is a time series in the dataset. It will also improve the performance of the final model.",
      "metadata": {
        "cell_id": "00050-d5130298-e95e-42ba-8ec8-c94bce4e8780",
        "deepnote_cell_type": "markdown"
      }
    },
    {
      "cell_type": "markdown",
      "source": "",
      "metadata": {
        "tags": [],
        "cell_id": "00050-bb9dc044-b11d-4b44-b12b-2595ee44bf32",
        "deepnote_cell_type": "markdown"
      }
    },
    {
      "cell_type": "markdown",
      "source": "<a style='text-decoration:none;line-height:16px;display:flex;color:#5B5B62;padding:10px;justify-content:end;' href='https://deepnote.com?utm_source=created-in-deepnote-cell&projectId=07719c8b-d1bf-4a88-9582-e7e42cd58ee8' target=\"_blank\">\n<img style='display:inline;max-height:16px;margin:0px;margin-right:7.5px;' src='data:image/svg+xml;base64,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' > </img>\nCreated in <span style='font-weight:600;margin-left:4px;'>Deepnote</span></a>",
      "metadata": {
        "tags": [],
        "created_in_deepnote_cell": true,
        "deepnote_cell_type": "markdown"
      }
    }
  ],
  "nbformat": 4,
  "nbformat_minor": 4,
  "metadata": {
    "kernelspec": {
      "display_name": "Python 3",
      "language": "python",
      "name": "python3"
    },
    "language_info": {
      "codemirror_mode": {
        "name": "ipython",
        "version": 3
      },
      "file_extension": ".py",
      "mimetype": "text/x-python",
      "name": "python",
      "nbconvert_exporter": "python",
      "pygments_lexer": "ipython3",
      "version": "3.7.4"
    },
    "deepnote_notebook_id": "d7ddd920-d3e8-41aa-b3bd-6ccdbdf80a2d",
    "deepnote": {},
    "deepnote_execution_queue": []
  }
}